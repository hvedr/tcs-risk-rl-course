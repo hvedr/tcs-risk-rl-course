{
 "cells": [
  {
   "cell_type": "code",
   "execution_count": 1,
   "metadata": {},
   "outputs": [],
   "source": [
    "import numpy as np\n",
    "import torch\n",
    "import torch.nn as nn\n",
    "import torch.nn.functional as F\n",
    "from tqdm import tqdm_notebook as tqdm\n",
    "from IPython.display import clear_output\n",
    "import matplotlib.pyplot as plt"
   ]
  },
  {
   "cell_type": "markdown",
   "metadata": {},
   "source": [
    "$$J_{surr}= {1 \\over N} \\sum\\limits_{i=0}^N \\frac{\\pi_{\\theta}(s_i, a_i)}{\\pi_{\\theta_{old}}(s_i, a_i)}A_{\\theta_{old}(s_i, a_i)}$$"
   ]
  },
  {
   "cell_type": "markdown",
   "metadata": {},
   "source": [
    "$$J'_{surr}= {1 \\over N} \\sum\\limits_{i=0}^N \\frac{\\pi_{\\theta}(s_i, a_i)}{\\pi_{\\theta_{old}}(s_i, a_i)}G_{\\theta_{old}(s_i, a_i)}$$"
   ]
  },
  {
   "cell_type": "code",
   "execution_count": null,
   "metadata": {},
   "outputs": [],
   "source": []
  },
  {
   "cell_type": "code",
   "execution_count": 2,
   "metadata": {},
   "outputs": [],
   "source": [
    "device = torch.device(['cpu', 'cuda:0'][torch.cuda.is_available()])"
   ]
  },
  {
   "cell_type": "code",
   "execution_count": 67,
   "metadata": {},
   "outputs": [],
   "source": [
    "GAMMA = 0\n",
    "LEARNING_RATES = [7e-4, 3e-4]\n",
    "BETA = 0.01\n",
    "ACTOR_ARH = [128]\n",
    "CRTIC_ARH = [128]\n",
    "EPS_CLIP = 0.2"
   ]
  },
  {
   "cell_type": "code",
   "execution_count": 68,
   "metadata": {},
   "outputs": [],
   "source": [
    "import math\n",
    "\n",
    "sig_dbg = []\n",
    "mu_dbg = []\n",
    "actor_losses = []\n",
    "critic_losses = []\n",
    "\n",
    "sigma_const = 0.3\n",
    "\n",
    "class ActorPPO(nn.Module):\n",
    "    def __init__(self, inner_size=[64,64]):\n",
    "        super(ActorPPO,self).__init__()\n",
    "        \n",
    "        self.actoin_space = env.action_space.shape[0]\n",
    "        self.action_min = env.action_space.low\n",
    "        self.action_max = env.action_space.high\n",
    "        self.observation_space = env.observation_space.shape[0]\n",
    "        \n",
    "        self.sigma_const = 0.3\n",
    "        \n",
    "        seq = []\n",
    "        for i in range(len(inner_size)):\n",
    "            if i == 0:\n",
    "                seq += [nn.Linear(self.observation_space, inner_size[i])]\n",
    "                seq += [nn.Tanh()]\n",
    "            else:\n",
    "                seq += [nn.Linear(inner_size[i-1], inner_size[i])]\n",
    "            \n",
    "            if i < len(inner_size)-1:\n",
    "                seq += [nn.Tanh()]\n",
    "        \n",
    "        self.main = nn.Sequential(\n",
    "            *seq\n",
    "        )\n",
    "\n",
    "        \n",
    "        self.mu_out = nn.Linear( inner_size[-1], self.actoin_space )\n",
    "        self.sig_out = nn.Linear( inner_size[-1], self.actoin_space )\n",
    "        \n",
    "        self.init_w(self.mu_out)\n",
    "        self.init_w(self.sig_out)\n",
    "        \n",
    "        self.main.apply(self.init_w)\n",
    "    \n",
    "    def init_w(self, a):\n",
    "        if isinstance(a, nn.Linear):\n",
    "            torch.nn.init.xavier_uniform(a.weight)\n",
    "        \n",
    "    def forward(self, inp):\n",
    "        x = self.main(inp)\n",
    "        mu = F.tanh(self.mu_out(x))\n",
    "        sig = F.softplus(self.sig_out(x)) + 1e-10\n",
    "        \n",
    "        #sig = torch.full_like( mu, self.sigma_const )\n",
    "        \n",
    "        return mu, sig\n",
    "\n",
    "class Critic(nn.Module):\n",
    "    def __init__(self, inner_size):\n",
    "        super(Critic,self).__init__()\n",
    "        \n",
    "        self.actoin_space = env.action_space.shape[0]\n",
    "        self.observation_space = env.observation_space.shape[0]\n",
    "        \n",
    "        seq = []\n",
    "        for i in range(len(inner_size)):\n",
    "            if i == 0:\n",
    "                seq += [nn.Linear(self.observation_space, inner_size[i])]\n",
    "                seq += [nn.Tanh()]\n",
    "            if i == len(inner_size)-1:\n",
    "                seq += [nn.Linear(inner_size[i], 1)]\n",
    "                #seq += [nn.Linear(inner_size[i], self.actoin_space)]\n",
    "            else:\n",
    "                seq += [nn.Linear(inner_size[i-1], inner_size[i])]\n",
    "            \n",
    "            if i < len(inner_size)-1:\n",
    "                seq += [nn.Tanh()]\n",
    "        \n",
    "        self.main = nn.Sequential(\n",
    "            *seq\n",
    "        )\n",
    "        \n",
    "        self.main.apply(self.init_w)\n",
    "    \n",
    "    def init_w(self, a):\n",
    "        if isinstance(a, nn.Linear):\n",
    "            torch.nn.init.xavier_uniform(a.weight)\n",
    "    \n",
    "    def forward(self, inp):\n",
    "        return self.main(inp)\n",
    "\n",
    "class ReplayBufferPPO():\n",
    "    def __init__(self, size = 100):\n",
    "        \n",
    "        self.size = size\n",
    "        self.actoin_space = env.action_space.shape[0]\n",
    "        self.observation_space = env.observation_space.shape[0]\n",
    "        \n",
    "        self.states = []\n",
    "        self.probs = []\n",
    "        self.rewards = []\n",
    "        \n",
    "        self.eps = torch.tensor(1e-8).to(device)\n",
    "        \n",
    "        self.begin_episode()\n",
    "        \n",
    "    def begin_episode(self):\n",
    "        self.actions = []\n",
    "        self.states = []\n",
    "        self.probs = []\n",
    "        self.rewards = []\n",
    "        self.dones = []\n",
    "        self.entropy = []\n",
    "        \n",
    "    def add_obs(self, a, p, s, r, d, e):\n",
    "        \n",
    "        self.actions += [a]\n",
    "        self.states += [s]\n",
    "        self.probs += [p]\n",
    "        self.rewards += [r]\n",
    "        self.dones += [not d]\n",
    "        self.entropy += [e]\n",
    "        \n",
    "    def sample_actor(self):\n",
    "        \n",
    "        probs = torch.cat(self.probs).to(device)\n",
    "        entrs = torch.cat(self.entropy).to(device)\n",
    "        \n",
    "        return probs, entrs\n",
    "    \n",
    "    def sample_critic(self):\n",
    "        \n",
    "#         states = np.concatenate(self.states).reshape(-1, self.observation_space)\n",
    "        states = self.states\n",
    "        states = torch.Tensor(states).to(device)\n",
    "        actions = torch.tensor(self.actions).to(device)\n",
    "        rewards = torch.tensor(self.rewards).to(device)\n",
    "        next_states = torch.roll(states,-1, dims=0)\n",
    "        #next_action_mask = torch.ones(len(self.rewards)).to(device)\n",
    "        next_action_mask = torch.tensor(self.dones).float().to(device)\n",
    "        \n",
    "        \n",
    "        returns = [\\\n",
    "            np.dot( GAMMA**np.arange(1,len(self.rewards)-i+1), self.rewards[i:] )\\\n",
    "            for i in range(len(self.rewards))\n",
    "        ]\n",
    "        returns = torch.tensor(returns).to(device)\n",
    "        \n",
    "        return states, next_states, actions, rewards,\\\n",
    "        next_action_mask, returns\n",
    "\n",
    "class AgentPPO():\n",
    "    def __init__(self, rb):\n",
    "        \n",
    "        self.policy_model = ActorPPO(ACTOR_ARH).to(device)\n",
    "        self.value_model = Critic(CRTIC_ARH).to(device)\n",
    "        \n",
    "        self.actoin_space = env.action_space.shape[0]\n",
    "        self.action_min = torch.tensor(env.action_space.low).to(device)\n",
    "        self.action_max = torch.tensor(env.action_space.high).to(device)\n",
    "        \n",
    "        self.replay = rb\n",
    "        \n",
    "        self.policy_opt = torch.optim.Adam(\n",
    "            self.policy_model.parameters(), lr=LEARNING_RATES[0],\n",
    "        )\n",
    "        \n",
    "        self.value_opt = torch.optim.Adam(\n",
    "            self.value_model.parameters(), lr=LEARNING_RATES[1]\n",
    "        )\n",
    "    \n",
    "    def train_critic(self, states, next_states, actions, \n",
    "                     rewards, next_state_masks, returns_r):\n",
    "        \n",
    "        nextq = self.value_model(next_states).view(-1) * next_state_masks\n",
    "        target = (rewards + GAMMA * nextq).detach().data\n",
    "        adv = target - self.value_model(states).view(-1)\n",
    "        loss = (adv**2.0).mean()\n",
    "        \n",
    "        self.value_opt.zero_grad()\n",
    "        loss.backward()\n",
    "        self.value_opt.step()\n",
    "        \n",
    "        return loss.item(), adv\n",
    "        \n",
    "    def train_actor(self, old_log_probs, old_states, \n",
    "                    old_entropy, old_actions, adv):\n",
    "        \n",
    "        log_probs, entropy = self.evaluate( old_states, old_actions )\n",
    "        ratios = torch.exp(log_probs - old_log_probs.detach())\n",
    "        surr1 = ratios * adv.view(-1,1).detach()\n",
    "        surr2 = torch.clamp(ratios, 1-EPS_CLIP, 1+EPS_CLIP) * adv.view(-1,1).detach()\n",
    "        e_reg = BETA*entropy.mean()\n",
    "        lclip = -torch.min(surr1, surr2).mean()\n",
    "        loss = lclip - e_reg\n",
    "        \n",
    "        self.policy_opt.zero_grad()\n",
    "        loss.backward()\n",
    "        self.policy_opt.step()\n",
    "        \n",
    "        return loss.item(), e_reg.item()\n",
    "    \n",
    "    def train_iter(self):\n",
    "        \n",
    "        log_probs, entropy = self.replay.sample_actor()\n",
    "        states, next_states, actions,\\\n",
    "        rewards, next_state_masks, returns_r = self.replay.sample_critic()\n",
    "        \n",
    "        critic_loss, returns_ac = self.train_critic(\n",
    "            states, \n",
    "            next_states, \n",
    "            actions,\n",
    "            rewards, \n",
    "            next_state_masks, \n",
    "            returns_r\n",
    "        )\n",
    "        \n",
    "        actor_loss, entr_loss = self.train_actor(\n",
    "            log_probs,\n",
    "            states,\n",
    "            entropy,\n",
    "            actions,\n",
    "            returns_ac #advantages\n",
    "        )\n",
    "        \n",
    "        return actor_loss, critic_loss, entr_loss\n",
    "    \n",
    "    def evaluate(self, states, actions):\n",
    "        mu, sig = self.policy_model(states)\n",
    "        #print('musi', mu.shape, sig.shape)\n",
    "        act_distr = torch.distributions.Normal(mu, sig)\n",
    "        log_probs = act_distr.log_prob(actions)\n",
    "        entropy = act_distr.entropy()\n",
    "        \n",
    "        return log_probs, entropy\n",
    "        \n",
    "    def select(self, state, explore=True):\n",
    "        \n",
    "        t_state = torch.tensor(state).float().unsqueeze(0).to(device)\n",
    "        mu, sig = self.policy_model(t_state)\n",
    "        act_distr = torch.distributions.Normal(mu.view(-1), sig.view(-1))\n",
    "        \n",
    "        if not explore:\n",
    "            act = mu\n",
    "            log_probs = None\n",
    "            entropy = None\n",
    "            actc = act.detach().cpu().numpy().squeeze()\n",
    "        else:\n",
    "            act = act_distr.sample()\n",
    "            log_probs = act_distr.log_prob(act).view(1,-1)\n",
    "            actc = act.detach().cpu().numpy().squeeze()\n",
    "            entropy = act_distr.entropy()\n",
    "            \n",
    "            global sig_dbg, mu_dbg\n",
    "            sig_dbg += [ sig.detach().cpu().numpy().mean() ]\n",
    "            mu_dbg += [ mu.detach().cpu().numpy().mean() ]\n",
    "        \n",
    "        return actc, log_probs, entropy"
   ]
  },
  {
   "cell_type": "code",
   "execution_count": 69,
   "metadata": {},
   "outputs": [],
   "source": [
    "def ma(X, n):\n",
    "    return np.convolve(X, np.ones((n,)) / n, mode='valid')\n",
    "\n",
    "def ms(X, n):\n",
    "    return np.convolve(X, np.ones((n,)), mode='valid')\n",
    "\n",
    "def softmax(arr):\n",
    "    return np.exp(arr) / np.sum(np.exp(arr))"
   ]
  },
  {
   "cell_type": "code",
   "execution_count": null,
   "metadata": {},
   "outputs": [
    {
     "data": {
      "image/png": "[encoded data removed]",
      "text/plain": [
       "<Figure size 1008x1008 with 4 Axes>"
      ]
     },
     "metadata": {
      "needs_background": "light"
     },
     "output_type": "display_data"
    },
    {
     "name": "stdout",
     "output_type": "stream",
     "text": [
      "0.6678050756454468 3.4765987396240234 0.011318339966237545\n"
     ]
    }
   ],
   "source": [
    "# import pybulletgym\n",
    "from point_mass_observed import ObservedPointEnv\n",
    "from IPython import display\n",
    "import datetime\n",
    "\n",
    "# test_env = Normalize(env)\n",
    "# eval_env = Normalize(env, ret=False)\n",
    "start = datetime.datetime.now()\n",
    "\n",
    "loss_stats = {'policy_loss':[],\n",
    "                 'loss':[],\n",
    "                 'value_loss':[]}\n",
    "\n",
    "eval_rewards = {'mean': [],\n",
    "                'last': []}\n",
    "\n",
    "eval_observations = {'point' : []}\n",
    "\n",
    "env = ObservedPointEnv(2)\n",
    "env.unwrapped.seed(0)\n",
    "\n",
    "torch.manual_seed(42)\n",
    "\n",
    "buffer = ReplayBufferPPO()\n",
    "agent = AgentPPO(buffer)\n",
    "\n",
    "total_rewards = []\n",
    "total_lengths = []\n",
    "\n",
    "actor_losses = []\n",
    "critic_losses = []\n",
    "entr_losses = []\n",
    "\n",
    "frames = []\n",
    "\n",
    "solve_threshold = 0\n",
    "max_episode = 100000000\n",
    "\n",
    "cnt = 0\n",
    "\n",
    "for e in tqdm(range(1000)):\n",
    "    \n",
    "    buffer.begin_episode()\n",
    "    \n",
    "    s = env.reset()\n",
    "    a, probs, entr = agent.select(s)\n",
    "    \n",
    "    total_reward = 0\n",
    "    total_length= 0\n",
    "    \n",
    "    if e % 10 == 0:\n",
    "        observation = env.reset()\n",
    "        eval_observations = {'point' : []}\n",
    "        sum_reward = 0\n",
    "\n",
    "        for step in range(int(1e12)):\n",
    "            action, _, _ = agent.select(observation, explore=False)\n",
    "            \n",
    "            observation, reward, done, info = env.step(action)\n",
    "            eval_observations['point'].append(observation[:2])\n",
    "\n",
    "            sum_reward += reward\n",
    "            if done:\n",
    "                break\n",
    "        eval_rewards['mean'] += [sum_reward / step]\n",
    "        eval_rewards['last'] += [reward]\n",
    "    \n",
    "    for t in range(100000):\n",
    "        s_, r, done, info = env.step(a)\n",
    "        \n",
    "        total_reward += r\n",
    "        total_length += 1\n",
    "\n",
    "        buffer.add_obs( a, probs, s, r, done, entr )\n",
    "        \n",
    "        a, probs, entr = agent.select(s_)\n",
    "\n",
    "        s = s_\n",
    "        \n",
    "        if t % 100 == 1:\n",
    "            a_loss, c_loss, e_loss = agent.train_iter()\n",
    "        \n",
    "        if t == max_episode-1: done = True\n",
    "        \n",
    "        if done:\n",
    "            \n",
    "            print(a_loss, c_loss, e_loss)\n",
    "\n",
    "            actor_losses += [a_loss]\n",
    "            critic_losses += [c_loss]\n",
    "            entr_losses += [e_loss]\n",
    "            cnt += 1\n",
    "        \n",
    "        if done:\n",
    "            \n",
    "\n",
    "            \n",
    "            total_rewards += [total_reward]\n",
    "            total_lengths += [total_length]\n",
    "            \n",
    "            \n",
    "#             clear_output(wait=True)\n",
    "            \n",
    "#             f = plt.figure(figsize=(20,5))\n",
    "#             ax = f.add_subplot(131)\n",
    "#             ax2 = f.add_subplot(132)\n",
    "#             ax3 = f.add_subplot(133)\n",
    "            \n",
    "#             ax.grid(True)\n",
    "#             ax.set_title('Total rewards')\n",
    "#             ax.plot(total_rewards)\n",
    "#             #plt.show()\n",
    "            \n",
    "#             if True:\n",
    "#                 ax2.grid(True)\n",
    "#                 ax2.set_title('Outputs')\n",
    "#                 ax2.plot( ma(mu_dbg, 100), label='mu', color='g' )\n",
    "#                 ax2.plot( ma(sig_dbg, 100), label='sigma', color='b' )\n",
    "#                 ax2.legend()\n",
    "#                 #plt.show()\n",
    "            \n",
    "#             ax3.grid(True)\n",
    "#             ax3.set_title('Losses')\n",
    "#             ax3.plot( actor_losses, label='actor', color='g' )\n",
    "#             ax3.plot( critic_losses, label='critic', color='b' )\n",
    "#             ax3.plot( entr_losses, label='entropy', color='y' )\n",
    "#             ax3.legend()\n",
    "#             plt.show()\n",
    "            \n",
    "            display.clear_output(wait=True)            \n",
    "    #                                                                                                      action_distr))            \n",
    "            fig, ax = plt.subplots(nrows=2, ncols=2, figsize=(14, 14))\n",
    "\n",
    "            working_time = datetime.datetime.now() - start\n",
    "\n",
    "            fig.suptitle(f'Steps done: {t}, \\n \\\n",
    "                        Epoch done: {e}, \\n \\\n",
    "                      Working time: {working_time.seconds//3600}h: {(working_time.seconds//60)%60}m: {working_time.seconds%60}s, \\\n",
    "                      ')\n",
    "\n",
    "            ax[0,0].plot( actor_losses, label='actor'+ ' : {:.2f}'.format(actor_losses[-1]), color='g' )\n",
    "            ax[0,0].plot( critic_losses, label='critic'+ ' : {:.2f}'.format(critic_losses[-1]), color='b' )\n",
    "            ax[0,0].plot( entr_losses, label='entropy'+ ' : {:.2f}'.format(entr_losses[-1]), color='y' )\n",
    "            ax[0,0].legend()\n",
    "            ax[0,0].set_title('Loss')\n",
    "\n",
    "            for k in eval_rewards.keys():\n",
    "                ax[0,1].plot(eval_rewards[k], label = k + ' : {:.2f}'.format(eval_rewards[k][-1]))\n",
    "            ax[0,1].legend()\n",
    "            ax[0,1].set_title('Eval Reward')\n",
    "\n",
    "            if t != 1:\n",
    "                ax[1,0].plot(xs, ys, '-', alpha=0.5, label='prev')\n",
    "            xs, ys = zip(*eval_observations['point'])        \n",
    "            ax[1,0].plot(xs, ys, '.', label='last')\n",
    "            \n",
    "            ax[1,0].plot(env._goal[0], env._goal[1], '*', label=f'goal: {env._goal}')\n",
    "            rect = patches.Rectangle((-10,-10), 20, 20, linewidth=1, edgecolor='r',facecolor='none')\n",
    "            ax[1,0].add_patch(rect)\n",
    "            ax[1,0].legend()\n",
    "            ax[1,0].set_title('Eval Trajectory')  \n",
    "            \n",
    "            ax[1,1].plot( ma(mu_dbg, 100), label='mu', color='g' )\n",
    "            ax[1,1].plot( ma(sig_dbg, 100), label='sigma', color='b' )\n",
    "            ax[1,1].legend()\n",
    "            ax[1,1].grid()\n",
    "\n",
    "            plt.show()\n",
    "            \n",
    "            if e % 10 == 3:\n",
    "                print('mu', np.mean(mu_dbg[-10:]), 'sig', np.mean(sig_dbg[-10:]))\n",
    "            \n",
    "            break"
   ]
  },
  {
   "cell_type": "code",
   "execution_count": 49,
   "metadata": {},
   "outputs": [
    {
     "name": "stdout",
     "output_type": "stream",
     "text": [
      "> \u001b[0;32m<ipython-input-44-200da0de919e>\u001b[0m(126)\u001b[0;36msample_actor\u001b[0;34m()\u001b[0m\n",
      "\u001b[0;32m    124 \u001b[0;31m    \u001b[0;32mdef\u001b[0m \u001b[0msample_actor\u001b[0m\u001b[0;34m(\u001b[0m\u001b[0mself\u001b[0m\u001b[0;34m)\u001b[0m\u001b[0;34m:\u001b[0m\u001b[0;34m\u001b[0m\u001b[0;34m\u001b[0m\u001b[0m\n",
      "\u001b[0m\u001b[0;32m    125 \u001b[0;31m\u001b[0;34m\u001b[0m\u001b[0m\n",
      "\u001b[0m\u001b[0;32m--> 126 \u001b[0;31m        \u001b[0mprobs\u001b[0m \u001b[0;34m=\u001b[0m \u001b[0mtorch\u001b[0m\u001b[0;34m.\u001b[0m\u001b[0mcat\u001b[0m\u001b[0;34m(\u001b[0m\u001b[0mself\u001b[0m\u001b[0;34m.\u001b[0m\u001b[0mprobs\u001b[0m\u001b[0;34m)\u001b[0m\u001b[0;34m.\u001b[0m\u001b[0mto\u001b[0m\u001b[0;34m(\u001b[0m\u001b[0mdevice\u001b[0m\u001b[0;34m)\u001b[0m\u001b[0;34m\u001b[0m\u001b[0;34m\u001b[0m\u001b[0m\n",
      "\u001b[0m\u001b[0;32m    127 \u001b[0;31m        \u001b[0mentrs\u001b[0m \u001b[0;34m=\u001b[0m \u001b[0mtorch\u001b[0m\u001b[0;34m.\u001b[0m\u001b[0mcat\u001b[0m\u001b[0;34m(\u001b[0m\u001b[0mself\u001b[0m\u001b[0;34m.\u001b[0m\u001b[0mentropy\u001b[0m\u001b[0;34m)\u001b[0m\u001b[0;34m.\u001b[0m\u001b[0mto\u001b[0m\u001b[0;34m(\u001b[0m\u001b[0mdevice\u001b[0m\u001b[0;34m)\u001b[0m\u001b[0;34m\u001b[0m\u001b[0;34m\u001b[0m\u001b[0m\n",
      "\u001b[0m\u001b[0;32m    128 \u001b[0;31m\u001b[0;34m\u001b[0m\u001b[0m\n",
      "\u001b[0m\n",
      "ipdb> self.probs\n",
      "[None, tensor([[-0.5395, -0.5772]], device='cuda:0', grad_fn=<ViewBackward>)]\n",
      "ipdb> й\n",
      "*** NameError: name 'й' is not defined\n",
      "ipdb> q\n"
     ]
    }
   ],
   "source": [
    "%debug"
   ]
  },
  {
   "cell_type": "code",
   "execution_count": 7,
   "metadata": {},
   "outputs": [],
   "source": [
    "# states = np.concatenate(buffer.states).reshape(-1, buffer.observation_space)\n",
    "states = torch.tensor(buffer.states).to(device)\n",
    "actions = torch.tensor(buffer.actions).to(device)\n",
    "rewards = torch.tensor(buffer.rewards).to(device)\n",
    "next_states = torch.roll(states,-1, dims=0)"
   ]
  },
  {
   "cell_type": "code",
   "execution_count": 40,
   "metadata": {},
   "outputs": [],
   "source": [
    "# # plt.plot(xs, ys, '-', alpha=0.5, label='prev')\n",
    "# import matplotlib.patches as patches\n",
    "\n",
    "# eval_rewards = {'mean': [],\n",
    "#                 'last': []}\n",
    "\n",
    "# observation = env.reset()\n",
    "# eval_observations = {'point' : []}\n",
    "# total_reward = 0\n",
    "\n",
    "# for step in range(int(1e12)):\n",
    "#     action, probs, entr = agent.select(observation, explore=False)\n",
    "\n",
    "#     observation, reward, done, info = env.step(action)\n",
    "#     eval_observations['point'].append(observation[:2])\n",
    "\n",
    "#     total_reward += reward\n",
    "#     if done:\n",
    "#         break\n",
    "        \n",
    "# eval_rewards['mean'] += [total_reward / step]\n",
    "# eval_rewards['last'] += [reward]\n",
    "\n",
    "# xs, ys = zip(*eval_observations['point'])        \n",
    "# plt.plot(xs, ys, '.', label='last')\n",
    "# #         ax[1,0].plot(prev_xs, prev_ys, '-', alpha=0.5)\n",
    "# plt.plot(env._goal[0], env._goal[1], '*', label=f'goal: {env._goal}')\n",
    "# rect = patches.Rectangle((-10,-10), 20, 20, linewidth=1, edgecolor='r',facecolor='none')\n",
    "# # plt.add_patch(rect)\n",
    "# #         ax[1,0].set_aspect('equal', adjustable='box')\n",
    "# plt.legend()\n",
    "# plt.grid()\n",
    "# plt.title('Eval Trajectory')        \n",
    "\n",
    "# plt.show()"
   ]
  },
  {
   "cell_type": "code",
   "execution_count": 8,
   "metadata": {},
   "outputs": [
    {
     "data": {
      "text/plain": [
       "tensor([0.1959], device='cuda:0', grad_fn=<AddBackward0>)"
      ]
     },
     "execution_count": 8,
     "metadata": {},
     "output_type": "execute_result"
    }
   ],
   "source": [
    "obs = torch.Tensor(env.reset()).to(device)\n",
    "\n",
    "agent.value_model(obs)"
   ]
  },
  {
   "cell_type": "code",
   "execution_count": 9,
   "metadata": {},
   "outputs": [
    {
     "data": {
      "text/plain": [
       "tensor([[0.1959],\n",
       "        [0.1674]], device='cuda:0', grad_fn=<AddmmBackward>)"
      ]
     },
     "execution_count": 9,
     "metadata": {},
     "output_type": "execute_result"
    }
   ],
   "source": [
    "obs = torch.Tensor(buffer.states).to(device)\n",
    "\n",
    "agent.value_model(obs)"
   ]
  },
  {
   "cell_type": "code",
   "execution_count": 15,
   "metadata": {},
   "outputs": [
    {
     "data": {
      "text/plain": [
       "tensor([[0.0000, 0.0000, 0.0000, 1.0000],\n",
       "        [0.3459, 1.1015, 0.0000, 1.0000]], device='cuda:0',\n",
       "       dtype=torch.float64)"
      ]
     },
     "execution_count": 15,
     "metadata": {},
     "output_type": "execute_result"
    }
   ],
   "source": [
    "states"
   ]
  },
  {
   "cell_type": "code",
   "execution_count": 16,
   "metadata": {},
   "outputs": [
    {
     "data": {
      "text/plain": [
       "tensor([[0.0000, 0.0000, 0.0000, 1.0000],\n",
       "        [0.3459, 1.1015, 0.0000, 1.0000]], device='cuda:0')"
      ]
     },
     "execution_count": 16,
     "metadata": {},
     "output_type": "execute_result"
    }
   ],
   "source": [
    "obs"
   ]
  },
  {
   "cell_type": "code",
   "execution_count": 14,
   "metadata": {},
   "outputs": [
    {
     "ename": "RuntimeError",
     "evalue": "Expected object of scalar type Float but got scalar type Double for argument #4 'mat1'",
     "output_type": "error",
     "traceback": [
      "\u001b[0;31m---------------------------------------------------------------------------\u001b[0m",
      "\u001b[0;31mRuntimeError\u001b[0m                              Traceback (most recent call last)",
      "\u001b[0;32m<ipython-input-14-225631dfc0dc>\u001b[0m in \u001b[0;36m<module>\u001b[0;34m\u001b[0m\n\u001b[1;32m      1\u001b[0m \u001b[0;31m# obs = torch.Tensor(states).to(device)\u001b[0m\u001b[0;34m\u001b[0m\u001b[0;34m\u001b[0m\u001b[0;34m\u001b[0m\u001b[0m\n\u001b[1;32m      2\u001b[0m \u001b[0;34m\u001b[0m\u001b[0m\n\u001b[0;32m----> 3\u001b[0;31m \u001b[0magent\u001b[0m\u001b[0;34m.\u001b[0m\u001b[0mvalue_model\u001b[0m\u001b[0;34m(\u001b[0m\u001b[0mstates\u001b[0m\u001b[0;34m.\u001b[0m\u001b[0mdouble\u001b[0m\u001b[0;34m(\u001b[0m\u001b[0;34m)\u001b[0m\u001b[0;34m)\u001b[0m\u001b[0;34m\u001b[0m\u001b[0;34m\u001b[0m\u001b[0m\n\u001b[0m",
      "\u001b[0;32m/usr/local/lib/python3.6/dist-packages/torch/nn/modules/module.py\u001b[0m in \u001b[0;36m__call__\u001b[0;34m(self, *input, **kwargs)\u001b[0m\n\u001b[1;32m    545\u001b[0m             \u001b[0mresult\u001b[0m \u001b[0;34m=\u001b[0m \u001b[0mself\u001b[0m\u001b[0;34m.\u001b[0m\u001b[0m_slow_forward\u001b[0m\u001b[0;34m(\u001b[0m\u001b[0;34m*\u001b[0m\u001b[0minput\u001b[0m\u001b[0;34m,\u001b[0m \u001b[0;34m**\u001b[0m\u001b[0mkwargs\u001b[0m\u001b[0;34m)\u001b[0m\u001b[0;34m\u001b[0m\u001b[0;34m\u001b[0m\u001b[0m\n\u001b[1;32m    546\u001b[0m         \u001b[0;32melse\u001b[0m\u001b[0;34m:\u001b[0m\u001b[0;34m\u001b[0m\u001b[0;34m\u001b[0m\u001b[0m\n\u001b[0;32m--> 547\u001b[0;31m             \u001b[0mresult\u001b[0m \u001b[0;34m=\u001b[0m \u001b[0mself\u001b[0m\u001b[0;34m.\u001b[0m\u001b[0mforward\u001b[0m\u001b[0;34m(\u001b[0m\u001b[0;34m*\u001b[0m\u001b[0minput\u001b[0m\u001b[0;34m,\u001b[0m \u001b[0;34m**\u001b[0m\u001b[0mkwargs\u001b[0m\u001b[0;34m)\u001b[0m\u001b[0;34m\u001b[0m\u001b[0;34m\u001b[0m\u001b[0m\n\u001b[0m\u001b[1;32m    548\u001b[0m         \u001b[0;32mfor\u001b[0m \u001b[0mhook\u001b[0m \u001b[0;32min\u001b[0m \u001b[0mself\u001b[0m\u001b[0;34m.\u001b[0m\u001b[0m_forward_hooks\u001b[0m\u001b[0;34m.\u001b[0m\u001b[0mvalues\u001b[0m\u001b[0;34m(\u001b[0m\u001b[0;34m)\u001b[0m\u001b[0;34m:\u001b[0m\u001b[0;34m\u001b[0m\u001b[0;34m\u001b[0m\u001b[0m\n\u001b[1;32m    549\u001b[0m             \u001b[0mhook_result\u001b[0m \u001b[0;34m=\u001b[0m \u001b[0mhook\u001b[0m\u001b[0;34m(\u001b[0m\u001b[0mself\u001b[0m\u001b[0;34m,\u001b[0m \u001b[0minput\u001b[0m\u001b[0;34m,\u001b[0m \u001b[0mresult\u001b[0m\u001b[0;34m)\u001b[0m\u001b[0;34m\u001b[0m\u001b[0;34m\u001b[0m\u001b[0m\n",
      "\u001b[0;32m<ipython-input-4-73586f013f4d>\u001b[0m in \u001b[0;36mforward\u001b[0;34m(self, inp)\u001b[0m\n\u001b[1;32m     88\u001b[0m \u001b[0;34m\u001b[0m\u001b[0m\n\u001b[1;32m     89\u001b[0m     \u001b[0;32mdef\u001b[0m \u001b[0mforward\u001b[0m\u001b[0;34m(\u001b[0m\u001b[0mself\u001b[0m\u001b[0;34m,\u001b[0m \u001b[0minp\u001b[0m\u001b[0;34m)\u001b[0m\u001b[0;34m:\u001b[0m\u001b[0;34m\u001b[0m\u001b[0;34m\u001b[0m\u001b[0m\n\u001b[0;32m---> 90\u001b[0;31m         \u001b[0;32mreturn\u001b[0m \u001b[0mself\u001b[0m\u001b[0;34m.\u001b[0m\u001b[0mmain\u001b[0m\u001b[0;34m(\u001b[0m\u001b[0minp\u001b[0m\u001b[0;34m)\u001b[0m\u001b[0;34m\u001b[0m\u001b[0;34m\u001b[0m\u001b[0m\n\u001b[0m\u001b[1;32m     91\u001b[0m \u001b[0;34m\u001b[0m\u001b[0m\n\u001b[1;32m     92\u001b[0m \u001b[0;32mclass\u001b[0m \u001b[0mReplayBufferPPO\u001b[0m\u001b[0;34m(\u001b[0m\u001b[0;34m)\u001b[0m\u001b[0;34m:\u001b[0m\u001b[0;34m\u001b[0m\u001b[0;34m\u001b[0m\u001b[0m\n",
      "\u001b[0;32m/usr/local/lib/python3.6/dist-packages/torch/nn/modules/module.py\u001b[0m in \u001b[0;36m__call__\u001b[0;34m(self, *input, **kwargs)\u001b[0m\n\u001b[1;32m    545\u001b[0m             \u001b[0mresult\u001b[0m \u001b[0;34m=\u001b[0m \u001b[0mself\u001b[0m\u001b[0;34m.\u001b[0m\u001b[0m_slow_forward\u001b[0m\u001b[0;34m(\u001b[0m\u001b[0;34m*\u001b[0m\u001b[0minput\u001b[0m\u001b[0;34m,\u001b[0m \u001b[0;34m**\u001b[0m\u001b[0mkwargs\u001b[0m\u001b[0;34m)\u001b[0m\u001b[0;34m\u001b[0m\u001b[0;34m\u001b[0m\u001b[0m\n\u001b[1;32m    546\u001b[0m         \u001b[0;32melse\u001b[0m\u001b[0;34m:\u001b[0m\u001b[0;34m\u001b[0m\u001b[0;34m\u001b[0m\u001b[0m\n\u001b[0;32m--> 547\u001b[0;31m             \u001b[0mresult\u001b[0m \u001b[0;34m=\u001b[0m \u001b[0mself\u001b[0m\u001b[0;34m.\u001b[0m\u001b[0mforward\u001b[0m\u001b[0;34m(\u001b[0m\u001b[0;34m*\u001b[0m\u001b[0minput\u001b[0m\u001b[0;34m,\u001b[0m \u001b[0;34m**\u001b[0m\u001b[0mkwargs\u001b[0m\u001b[0;34m)\u001b[0m\u001b[0;34m\u001b[0m\u001b[0;34m\u001b[0m\u001b[0m\n\u001b[0m\u001b[1;32m    548\u001b[0m         \u001b[0;32mfor\u001b[0m \u001b[0mhook\u001b[0m \u001b[0;32min\u001b[0m \u001b[0mself\u001b[0m\u001b[0;34m.\u001b[0m\u001b[0m_forward_hooks\u001b[0m\u001b[0;34m.\u001b[0m\u001b[0mvalues\u001b[0m\u001b[0;34m(\u001b[0m\u001b[0;34m)\u001b[0m\u001b[0;34m:\u001b[0m\u001b[0;34m\u001b[0m\u001b[0;34m\u001b[0m\u001b[0m\n\u001b[1;32m    549\u001b[0m             \u001b[0mhook_result\u001b[0m \u001b[0;34m=\u001b[0m \u001b[0mhook\u001b[0m\u001b[0;34m(\u001b[0m\u001b[0mself\u001b[0m\u001b[0;34m,\u001b[0m \u001b[0minput\u001b[0m\u001b[0;34m,\u001b[0m \u001b[0mresult\u001b[0m\u001b[0;34m)\u001b[0m\u001b[0;34m\u001b[0m\u001b[0;34m\u001b[0m\u001b[0m\n",
      "\u001b[0;32m/usr/local/lib/python3.6/dist-packages/torch/nn/modules/container.py\u001b[0m in \u001b[0;36mforward\u001b[0;34m(self, input)\u001b[0m\n\u001b[1;32m     90\u001b[0m     \u001b[0;32mdef\u001b[0m \u001b[0mforward\u001b[0m\u001b[0;34m(\u001b[0m\u001b[0mself\u001b[0m\u001b[0;34m,\u001b[0m \u001b[0minput\u001b[0m\u001b[0;34m)\u001b[0m\u001b[0;34m:\u001b[0m\u001b[0;34m\u001b[0m\u001b[0;34m\u001b[0m\u001b[0m\n\u001b[1;32m     91\u001b[0m         \u001b[0;32mfor\u001b[0m \u001b[0mmodule\u001b[0m \u001b[0;32min\u001b[0m \u001b[0mself\u001b[0m\u001b[0;34m.\u001b[0m\u001b[0m_modules\u001b[0m\u001b[0;34m.\u001b[0m\u001b[0mvalues\u001b[0m\u001b[0;34m(\u001b[0m\u001b[0;34m)\u001b[0m\u001b[0;34m:\u001b[0m\u001b[0;34m\u001b[0m\u001b[0;34m\u001b[0m\u001b[0m\n\u001b[0;32m---> 92\u001b[0;31m             \u001b[0minput\u001b[0m \u001b[0;34m=\u001b[0m \u001b[0mmodule\u001b[0m\u001b[0;34m(\u001b[0m\u001b[0minput\u001b[0m\u001b[0;34m)\u001b[0m\u001b[0;34m\u001b[0m\u001b[0;34m\u001b[0m\u001b[0m\n\u001b[0m\u001b[1;32m     93\u001b[0m         \u001b[0;32mreturn\u001b[0m \u001b[0minput\u001b[0m\u001b[0;34m\u001b[0m\u001b[0;34m\u001b[0m\u001b[0m\n\u001b[1;32m     94\u001b[0m \u001b[0;34m\u001b[0m\u001b[0m\n",
      "\u001b[0;32m/usr/local/lib/python3.6/dist-packages/torch/nn/modules/module.py\u001b[0m in \u001b[0;36m__call__\u001b[0;34m(self, *input, **kwargs)\u001b[0m\n\u001b[1;32m    545\u001b[0m             \u001b[0mresult\u001b[0m \u001b[0;34m=\u001b[0m \u001b[0mself\u001b[0m\u001b[0;34m.\u001b[0m\u001b[0m_slow_forward\u001b[0m\u001b[0;34m(\u001b[0m\u001b[0;34m*\u001b[0m\u001b[0minput\u001b[0m\u001b[0;34m,\u001b[0m \u001b[0;34m**\u001b[0m\u001b[0mkwargs\u001b[0m\u001b[0;34m)\u001b[0m\u001b[0;34m\u001b[0m\u001b[0;34m\u001b[0m\u001b[0m\n\u001b[1;32m    546\u001b[0m         \u001b[0;32melse\u001b[0m\u001b[0;34m:\u001b[0m\u001b[0;34m\u001b[0m\u001b[0;34m\u001b[0m\u001b[0m\n\u001b[0;32m--> 547\u001b[0;31m             \u001b[0mresult\u001b[0m \u001b[0;34m=\u001b[0m \u001b[0mself\u001b[0m\u001b[0;34m.\u001b[0m\u001b[0mforward\u001b[0m\u001b[0;34m(\u001b[0m\u001b[0;34m*\u001b[0m\u001b[0minput\u001b[0m\u001b[0;34m,\u001b[0m \u001b[0;34m**\u001b[0m\u001b[0mkwargs\u001b[0m\u001b[0;34m)\u001b[0m\u001b[0;34m\u001b[0m\u001b[0;34m\u001b[0m\u001b[0m\n\u001b[0m\u001b[1;32m    548\u001b[0m         \u001b[0;32mfor\u001b[0m \u001b[0mhook\u001b[0m \u001b[0;32min\u001b[0m \u001b[0mself\u001b[0m\u001b[0;34m.\u001b[0m\u001b[0m_forward_hooks\u001b[0m\u001b[0;34m.\u001b[0m\u001b[0mvalues\u001b[0m\u001b[0;34m(\u001b[0m\u001b[0;34m)\u001b[0m\u001b[0;34m:\u001b[0m\u001b[0;34m\u001b[0m\u001b[0;34m\u001b[0m\u001b[0m\n\u001b[1;32m    549\u001b[0m             \u001b[0mhook_result\u001b[0m \u001b[0;34m=\u001b[0m \u001b[0mhook\u001b[0m\u001b[0;34m(\u001b[0m\u001b[0mself\u001b[0m\u001b[0;34m,\u001b[0m \u001b[0minput\u001b[0m\u001b[0;34m,\u001b[0m \u001b[0mresult\u001b[0m\u001b[0;34m)\u001b[0m\u001b[0;34m\u001b[0m\u001b[0;34m\u001b[0m\u001b[0m\n",
      "\u001b[0;32m/usr/local/lib/python3.6/dist-packages/torch/nn/modules/linear.py\u001b[0m in \u001b[0;36mforward\u001b[0;34m(self, input)\u001b[0m\n\u001b[1;32m     85\u001b[0m \u001b[0;34m\u001b[0m\u001b[0m\n\u001b[1;32m     86\u001b[0m     \u001b[0;32mdef\u001b[0m \u001b[0mforward\u001b[0m\u001b[0;34m(\u001b[0m\u001b[0mself\u001b[0m\u001b[0;34m,\u001b[0m \u001b[0minput\u001b[0m\u001b[0;34m)\u001b[0m\u001b[0;34m:\u001b[0m\u001b[0;34m\u001b[0m\u001b[0;34m\u001b[0m\u001b[0m\n\u001b[0;32m---> 87\u001b[0;31m         \u001b[0;32mreturn\u001b[0m \u001b[0mF\u001b[0m\u001b[0;34m.\u001b[0m\u001b[0mlinear\u001b[0m\u001b[0;34m(\u001b[0m\u001b[0minput\u001b[0m\u001b[0;34m,\u001b[0m \u001b[0mself\u001b[0m\u001b[0;34m.\u001b[0m\u001b[0mweight\u001b[0m\u001b[0;34m,\u001b[0m \u001b[0mself\u001b[0m\u001b[0;34m.\u001b[0m\u001b[0mbias\u001b[0m\u001b[0;34m)\u001b[0m\u001b[0;34m\u001b[0m\u001b[0;34m\u001b[0m\u001b[0m\n\u001b[0m\u001b[1;32m     88\u001b[0m \u001b[0;34m\u001b[0m\u001b[0m\n\u001b[1;32m     89\u001b[0m     \u001b[0;32mdef\u001b[0m \u001b[0mextra_repr\u001b[0m\u001b[0;34m(\u001b[0m\u001b[0mself\u001b[0m\u001b[0;34m)\u001b[0m\u001b[0;34m:\u001b[0m\u001b[0;34m\u001b[0m\u001b[0;34m\u001b[0m\u001b[0m\n",
      "\u001b[0;32m/usr/local/lib/python3.6/dist-packages/torch/nn/functional.py\u001b[0m in \u001b[0;36mlinear\u001b[0;34m(input, weight, bias)\u001b[0m\n\u001b[1;32m   1367\u001b[0m     \u001b[0;32mif\u001b[0m \u001b[0minput\u001b[0m\u001b[0;34m.\u001b[0m\u001b[0mdim\u001b[0m\u001b[0;34m(\u001b[0m\u001b[0;34m)\u001b[0m \u001b[0;34m==\u001b[0m \u001b[0;36m2\u001b[0m \u001b[0;32mand\u001b[0m \u001b[0mbias\u001b[0m \u001b[0;32mis\u001b[0m \u001b[0;32mnot\u001b[0m \u001b[0;32mNone\u001b[0m\u001b[0;34m:\u001b[0m\u001b[0;34m\u001b[0m\u001b[0;34m\u001b[0m\u001b[0m\n\u001b[1;32m   1368\u001b[0m         \u001b[0;31m# fused op is marginally faster\u001b[0m\u001b[0;34m\u001b[0m\u001b[0;34m\u001b[0m\u001b[0;34m\u001b[0m\u001b[0m\n\u001b[0;32m-> 1369\u001b[0;31m         \u001b[0mret\u001b[0m \u001b[0;34m=\u001b[0m \u001b[0mtorch\u001b[0m\u001b[0;34m.\u001b[0m\u001b[0maddmm\u001b[0m\u001b[0;34m(\u001b[0m\u001b[0mbias\u001b[0m\u001b[0;34m,\u001b[0m \u001b[0minput\u001b[0m\u001b[0;34m,\u001b[0m \u001b[0mweight\u001b[0m\u001b[0;34m.\u001b[0m\u001b[0mt\u001b[0m\u001b[0;34m(\u001b[0m\u001b[0;34m)\u001b[0m\u001b[0;34m)\u001b[0m\u001b[0;34m\u001b[0m\u001b[0;34m\u001b[0m\u001b[0m\n\u001b[0m\u001b[1;32m   1370\u001b[0m     \u001b[0;32melse\u001b[0m\u001b[0;34m:\u001b[0m\u001b[0;34m\u001b[0m\u001b[0;34m\u001b[0m\u001b[0m\n\u001b[1;32m   1371\u001b[0m         \u001b[0moutput\u001b[0m \u001b[0;34m=\u001b[0m \u001b[0minput\u001b[0m\u001b[0;34m.\u001b[0m\u001b[0mmatmul\u001b[0m\u001b[0;34m(\u001b[0m\u001b[0mweight\u001b[0m\u001b[0;34m.\u001b[0m\u001b[0mt\u001b[0m\u001b[0;34m(\u001b[0m\u001b[0;34m)\u001b[0m\u001b[0;34m)\u001b[0m\u001b[0;34m\u001b[0m\u001b[0;34m\u001b[0m\u001b[0m\n",
      "\u001b[0;31mRuntimeError\u001b[0m: Expected object of scalar type Float but got scalar type Double for argument #4 'mat1'"
     ]
    }
   ],
   "source": [
    "# obs = torch.Tensor(states).to(device)\n",
    "\n",
    "agent.value_model(states.double())"
   ]
  },
  {
   "cell_type": "code",
   "execution_count": 46,
   "metadata": {},
   "outputs": [
    {
     "data": {
      "text/plain": [
       "[array([0., 0., 0., 1.]),\n",
       " array([0.34585416, 1.10150099, 0.        , 1.        ])]"
      ]
     },
     "execution_count": 46,
     "metadata": {},
     "output_type": "execute_result"
    }
   ],
   "source": [
    "buffer.states"
   ]
  },
  {
   "cell_type": "code",
   "execution_count": 45,
   "metadata": {},
   "outputs": [
    {
     "data": {
      "text/plain": [
       "False"
      ]
     },
     "execution_count": 45,
     "metadata": {},
     "output_type": "execute_result"
    }
   ],
   "source": [
    "states"
   ]
  },
  {
   "cell_type": "code",
   "execution_count": 24,
   "metadata": {},
   "outputs": [
    {
     "data": {
      "text/plain": [
       "array([[0.        , 0.        , 0.        , 1.        ],\n",
       "       [0.34585416, 1.10150099, 0.        , 1.        ]])"
      ]
     },
     "execution_count": 24,
     "metadata": {},
     "output_type": "execute_result"
    }
   ],
   "source": [
    "np.concatenate(buffer.states).reshape(-1, buffer.observation_space)"
   ]
  },
  {
   "cell_type": "code",
   "execution_count": 53,
   "metadata": {},
   "outputs": [],
   "source": [
    "# states = np.concatenate(buffer.states).reshape(-1, buffer.observation_space)\n",
    "states = torch.tensor(buffer.states).to(device)\n",
    "actions = torch.tensor(buffer.actions).to(device)\n",
    "rewards = torch.tensor(buffer.rewards).to(device)\n",
    "next_states = torch.roll(states,-1, dims=0)"
   ]
  },
  {
   "cell_type": "code",
   "execution_count": 54,
   "metadata": {},
   "outputs": [
    {
     "data": {
      "text/plain": [
       "(tensor([[0.0000, 0.0000, 0.0000, 1.0000],\n",
       "         [0.3459, 1.1015, 0.0000, 1.0000]], device='cuda:0',\n",
       "        dtype=torch.float64), tensor([[0.3459, 1.1015, 0.0000, 1.0000],\n",
       "         [0.0000, 0.0000, 0.0000, 1.0000]], device='cuda:0',\n",
       "        dtype=torch.float64))"
      ]
     },
     "execution_count": 54,
     "metadata": {},
     "output_type": "execute_result"
    }
   ],
   "source": [
    "states, next_states"
   ]
  },
  {
   "cell_type": "code",
   "execution_count": 31,
   "metadata": {},
   "outputs": [
    {
     "data": {
      "text/plain": [
       "tensor([[0.3459, 1.1015, 0.0000, 1.0000],\n",
       "        [0.0000, 0.0000, 0.0000, 1.0000]], device='cuda:0',\n",
       "       dtype=torch.float64)"
      ]
     },
     "execution_count": 31,
     "metadata": {},
     "output_type": "execute_result"
    }
   ],
   "source": [
    "torch.roll(states,-1, dims=0)"
   ]
  },
  {
   "cell_type": "code",
   "execution_count": null,
   "metadata": {},
   "outputs": [],
   "source": []
  }
 ],
 "metadata": {
  "kernelspec": {
   "display_name": "Python 3",
   "language": "python",
   "name": "python3"
  },
  "language_info": {
   "codemirror_mode": {
    "name": "ipython",
    "version": 3
   },
   "file_extension": ".py",
   "mimetype": "text/x-python",
   "name": "python",
   "nbconvert_exporter": "python",
   "pygments_lexer": "ipython3",
   "version": "3.6.8"
  }
 },
 "nbformat": 4,
 "nbformat_minor": 2
}
