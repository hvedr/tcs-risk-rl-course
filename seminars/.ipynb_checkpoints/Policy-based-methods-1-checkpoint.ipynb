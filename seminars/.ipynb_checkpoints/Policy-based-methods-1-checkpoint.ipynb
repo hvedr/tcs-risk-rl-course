{
 "cells": [
  {
   "cell_type": "code",
   "execution_count": 1,
   "metadata": {},
   "outputs": [],
   "source": [
    "import torch, torch.nn as nn\n",
    "from torch.functional import F as F\n",
    "import gym\n",
    "import numpy as np\n",
    "import matplotlib.pyplot as plt\n",
    "from tqdm import tqdm_notebook as tqdm"
   ]
  },
  {
   "cell_type": "code",
   "execution_count": null,
   "metadata": {},
   "outputs": [],
   "source": []
  },
  {
   "cell_type": "code",
   "execution_count": 2,
   "metadata": {},
   "outputs": [],
   "source": [
    "device = torch.device('cpu')"
   ]
  },
  {
   "cell_type": "code",
   "execution_count": 3,
   "metadata": {},
   "outputs": [],
   "source": [
    "def ma(X, n):\n",
    "    return np.convolve(X, np.ones((n,)) / n, mode='valid')\n",
    "\n",
    "def ms(X, n):\n",
    "    return np.convolve(X, np.ones((n,)), mode='valid')\n",
    "\n",
    "def softmax(arr):\n",
    "    return np.exp(arr) / np.sum(np.exp(arr))"
   ]
  },
  {
   "cell_type": "code",
   "execution_count": null,
   "metadata": {},
   "outputs": [],
   "source": []
  },
  {
   "cell_type": "code",
   "execution_count": null,
   "metadata": {},
   "outputs": [],
   "source": []
  },
  {
   "cell_type": "markdown",
   "metadata": {},
   "source": [
    "## Reinforce"
   ]
  },
  {
   "cell_type": "code",
   "execution_count": 619,
   "metadata": {},
   "outputs": [],
   "source": [
    "class PG(nn.Module):\n",
    "    def __init__(self):\n",
    "        super(PG,self).__init__()\n",
    "        \n",
    "        self.actoin_space = env.action_space.n\n",
    "        self.observation_space = env.observation_space.shape[0]\n",
    "        \n",
    "        self.main = nn.Sequential(\n",
    "            nn.Linear(self.observation_space, 64),\n",
    "            nn.ReLU(),\n",
    "            nn.Linear(64, 64),\n",
    "            nn.ReLU(),\n",
    "            nn.Linear(64, self.actoin_space)\n",
    "        )\n",
    "        \n",
    "    \n",
    "    def forward(self, inp):\n",
    "        return F.softmax(self.main(inp).view(-1), dim=0)"
   ]
  },
  {
   "cell_type": "code",
   "execution_count": 625,
   "metadata": {},
   "outputs": [],
   "source": [
    "GAMMA = 0.99\n",
    "\n",
    "class ReplayBuffer():\n",
    "    def __init__(self, size = 100):\n",
    "        \n",
    "        self.size = size\n",
    "        self.actoin_space = env.action_space.n\n",
    "        self.observation_space = env.observation_space.shape[0]\n",
    "        \n",
    "        self.states = []\n",
    "        self.probs = []\n",
    "        self.rewards = []\n",
    "        \n",
    "        self.eps = torch.tensor(1e-8).to(device)\n",
    "        \n",
    "        self.begin_episode()\n",
    "        \n",
    "    def begin_episode(self):\n",
    "        self.probs = []\n",
    "        self.rewards = []\n",
    "        \n",
    "    def add_obs(self, a, s, r, d):\n",
    "        \n",
    "        self.probs += [a]\n",
    "        self.rewards += [r]\n",
    "        \n",
    "    def sample(self):\n",
    "        \n",
    "        returns = [np.dot( GAMMA**np.arange(1,len(self.rewards)-i+1), self.rewards[i:] ) for i in range(len(self.rewards))]\n",
    "        returns = torch.tensor(returns).to(device)\n",
    "        returns = (returns - returns.mean()) / (returns.std() + self.eps)\n",
    "        probs = torch.cat(self.probs).view(-1).to(device)\n",
    "        self.begin_episode()\n",
    "        \n",
    "        return probs, returns\n",
    "\n",
    "class Agent():\n",
    "    def __init__(self, rb):\n",
    "        self.policy_model = PG().to(device)\n",
    "        self.replay = rb\n",
    "        self.optimizer = torch.optim.Adam(\n",
    "            self.policy_model.parameters(), lr=1e-3,\n",
    "        )\n",
    "    \n",
    "    def train_step(self, log_probs, returns):\n",
    "        \n",
    "        loss = (-log_probs * returns).sum()\n",
    "        \n",
    "        self.optimizer.zero_grad()\n",
    "        loss.backward()\n",
    "        self.optimizer.step()\n",
    "        \n",
    "        return loss.item()\n",
    "    \n",
    "    def train_iter(self):\n",
    "        \n",
    "        log_probs, returns = self.replay.sample()\n",
    "        \n",
    "        losses = 0\n",
    "        losses += self.train_step(log_probs, returns)\n",
    "            \n",
    "        return losses / 1.0\n",
    "    \n",
    "    def select(self, state):\n",
    "        \n",
    "        t_state = torch.tensor(state).float().unsqueeze(0).to(device)\n",
    "        act_probs = self.policy_model(t_state).cpu()\n",
    "        act_distr = torch.distributions.Categorical(act_probs)\n",
    "        act = act_distr.sample()\n",
    "        log_probs = act_distr.log_prob(act).view(1,-1)\n",
    "        \n",
    "        return act.item(), log_probs\n",
    "        \n",
    "        "
   ]
  },
  {
   "cell_type": "code",
   "execution_count": 626,
   "metadata": {
    "scrolled": true
   },
   "outputs": [
    {
     "data": {
      "application/vnd.jupyter.widget-view+json": {
       "model_id": "5347bc2e8efd4a098eec271add621948",
       "version_major": 2,
       "version_minor": 0
      },
      "text/plain": [
       "HBox(children=(IntProgress(value=0, max=1000), HTML(value='')))"
      ]
     },
     "metadata": {},
     "output_type": "display_data"
    },
    {
     "name": "stdout",
     "output_type": "stream",
     "text": [
      "Episiode 0, episode reward 26.0, total reward 26.0 loss: 0.06361305713653564\n",
      "Episiode 10, episode reward 16.0, total reward 22.0 loss: -0.09756278991699219\n",
      "Episiode 20, episode reward 40.0, total reward 25.14 loss: -0.08643960952758789\n",
      "Episiode 30, episode reward 74.0, total reward 25.94 loss: -0.596818208694458\n",
      "Episiode 40, episode reward 12.0, total reward 24.17 loss: -0.09997892379760742\n",
      "Episiode 50, episode reward 12.0, total reward 24.39 loss: -0.22132793068885803\n",
      "Episiode 60, episode reward 46.0, total reward 24.89 loss: -0.34902799129486084\n",
      "Episiode 70, episode reward 9.0, total reward 24.99 loss: 0.6877330541610718\n",
      "Episiode 80, episode reward 18.0, total reward 25.49 loss: 0.27440834045410156\n",
      "Episiode 90, episode reward 39.0, total reward 25.4 loss: -1.036149024963379\n",
      "Episiode 100, episode reward 51.0, total reward 25.79 loss: 0.25546085834503174\n",
      "Episiode 110, episode reward 34.0, total reward 26.42 loss: -0.8362631797790527\n",
      "Episiode 120, episode reward 11.0, total reward 26.5 loss: 1.0479323863983154\n",
      "Episiode 130, episode reward 39.0, total reward 27.46 loss: 0.575397253036499\n",
      "Episiode 140, episode reward 53.0, total reward 28.87 loss: -4.439245223999023\n",
      "Episiode 150, episode reward 85.0, total reward 31.09 loss: 1.057281255722046\n",
      "Episiode 160, episode reward 79.0, total reward 32.92 loss: 1.9830995798110962\n",
      "Episiode 170, episode reward 75.0, total reward 33.94 loss: 1.7215054035186768\n",
      "Episiode 180, episode reward 13.0, total reward 35.01 loss: 0.7860877513885498\n",
      "Episiode 190, episode reward 111.0, total reward 37.26 loss: -0.07460188865661621\n",
      "Episiode 200, episode reward 131.0, total reward 41.06 loss: -1.1980161666870117\n",
      "Episiode 210, episode reward 94.0, total reward 44.0 loss: -1.7773380279541016\n",
      "Episiode 220, episode reward 248.0, total reward 47.22 loss: -7.358181476593018\n",
      "Episiode 230, episode reward 244.0, total reward 54.79 loss: 2.9077274799346924\n",
      "Episiode 240, episode reward 120.0, total reward 63.13 loss: -7.7176384925842285\n",
      "Episiode 250, episode reward 299.0, total reward 70.25 loss: -0.005037784576416016\n",
      "Episiode 260, episode reward 447.0, total reward 83.63 loss: -4.910917282104492\n",
      "Episiode 270, episode reward 154.0, total reward 89.29 loss: -3.520655632019043\n",
      "Episiode 280, episode reward 166.0, total reward 92.24 loss: 2.0797505378723145\n",
      "Episiode 290, episode reward 133.0, total reward 94.55 loss: -0.6375942230224609\n",
      "Episiode 300, episode reward 243.0, total reward 96.5 loss: 1.4874703884124756\n",
      "Episiode 310, episode reward 500.0, total reward 104.58 loss: 0.15334105491638184\n",
      "Episiode 320, episode reward 233.0, total reward 115.15 loss: 0.9302754402160645\n",
      "Episiode 330, episode reward 144.0, total reward 119.19 loss: -4.403466701507568\n",
      "Episiode 340, episode reward 397.0, total reward 122.33 loss: -3.3967082500457764\n",
      "Episiode 350, episode reward 240.0, total reward 126.19 loss: -4.538181304931641\n",
      "Episiode 360, episode reward 252.0, total reward 129.41 loss: 0.7080416679382324\n",
      "Episiode 370, episode reward 108.0, total reward 129.11 loss: -3.75915789604187\n",
      "Episiode 380, episode reward 189.0, total reward 129.14 loss: -2.355024814605713\n",
      "Episiode 390, episode reward 263.0, total reward 132.79 loss: -1.9888832569122314\n",
      "Episiode 400, episode reward 421.0, total reward 138.77 loss: -10.487602233886719\n",
      "Episiode 410, episode reward 314.0, total reward 145.02 loss: 0.9780306816101074\n",
      "Episiode 420, episode reward 500.0, total reward 152.15 loss: -10.078582763671875\n",
      "Episiode 430, episode reward 270.0, total reward 156.99 loss: -6.206679344177246\n",
      "Episiode 440, episode reward 500.0, total reward 163.33 loss: -8.768430709838867\n",
      "Episiode 450, episode reward 500.0, total reward 170.25 loss: 1.4977035522460938\n",
      "Episiode 460, episode reward 500.0, total reward 174.29 loss: -15.506694793701172\n",
      "Episiode 470, episode reward 304.0, total reward 178.53 loss: -1.2974448204040527\n",
      "Episiode 480, episode reward 500.0, total reward 181.6 loss: 4.962793350219727\n",
      "Episiode 490, episode reward 500.0, total reward 186.37 loss: -0.21974706649780273\n",
      "Episiode 500, episode reward 500.0, total reward 191.66 loss: 5.191245079040527\n",
      "Episiode 510, episode reward 500.0, total reward 197.61 loss: -5.202574253082275\n",
      "Episiode 520, episode reward 500.0, total reward 203.39 loss: 3.981288433074951\n",
      "Episiode 530, episode reward 500.0, total reward 208.37 loss: 11.940595626831055\n",
      "Episiode 540, episode reward 500.0, total reward 213.76 loss: -8.722902297973633\n",
      "Episiode 550, episode reward 500.0, total reward 218.95 loss: -2.872039318084717\n",
      "Episiode 560, episode reward 500.0, total reward 223.96 loss: -7.704751968383789\n",
      "Episiode 570, episode reward 500.0, total reward 228.33 loss: 0.5253057479858398\n",
      "Episiode 580, episode reward 500.0, total reward 233.0 loss: -5.004241466522217\n",
      "Episiode 590, episode reward 467.0, total reward 236.8 loss: -1.5660934448242188\n",
      "Episiode 600, episode reward 500.0, total reward 241.18 loss: -8.663640975952148\n",
      "Episiode 610, episode reward 500.0, total reward 244.84 loss: 0.29345703125\n",
      "Episiode 620, episode reward 500.0, total reward 248.6 loss: -0.4567091464996338\n",
      "Episiode 630, episode reward 500.0, total reward 251.68 loss: 11.029340744018555\n"
     ]
    },
    {
     "ename": "KeyboardInterrupt",
     "evalue": "",
     "output_type": "error",
     "traceback": [
      "\u001b[0;31m---------------------------------------------------------------------------\u001b[0m",
      "\u001b[0;31mKeyboardInterrupt\u001b[0m                         Traceback (most recent call last)",
      "\u001b[0;32m<ipython-input-626-f480be65a8d5>\u001b[0m in \u001b[0;36m<module>\u001b[0;34m\u001b[0m\n\u001b[1;32m     21\u001b[0m         \u001b[0mbuffer\u001b[0m\u001b[0;34m.\u001b[0m\u001b[0madd_obs\u001b[0m\u001b[0;34m(\u001b[0m \u001b[0mprobs\u001b[0m\u001b[0;34m,\u001b[0m \u001b[0ms_\u001b[0m\u001b[0;34m,\u001b[0m \u001b[0mr\u001b[0m\u001b[0;34m,\u001b[0m \u001b[0mdone\u001b[0m \u001b[0;34m)\u001b[0m\u001b[0;34m\u001b[0m\u001b[0;34m\u001b[0m\u001b[0m\n\u001b[1;32m     22\u001b[0m \u001b[0;34m\u001b[0m\u001b[0m\n\u001b[0;32m---> 23\u001b[0;31m         \u001b[0ma\u001b[0m\u001b[0;34m,\u001b[0m \u001b[0mprobs\u001b[0m \u001b[0;34m=\u001b[0m \u001b[0magent\u001b[0m\u001b[0;34m.\u001b[0m\u001b[0mselect\u001b[0m\u001b[0;34m(\u001b[0m\u001b[0;34m[\u001b[0m\u001b[0ms_\u001b[0m\u001b[0;34m]\u001b[0m\u001b[0;34m)\u001b[0m\u001b[0;34m\u001b[0m\u001b[0;34m\u001b[0m\u001b[0m\n\u001b[0m\u001b[1;32m     24\u001b[0m \u001b[0;34m\u001b[0m\u001b[0m\n\u001b[1;32m     25\u001b[0m         \u001b[0;32mif\u001b[0m \u001b[0mdone\u001b[0m\u001b[0;34m:\u001b[0m\u001b[0;34m\u001b[0m\u001b[0;34m\u001b[0m\u001b[0m\n",
      "\u001b[0;32m<ipython-input-625-5517110b405e>\u001b[0m in \u001b[0;36mselect\u001b[0;34m(self, state)\u001b[0m\n\u001b[1;32m     65\u001b[0m \u001b[0;34m\u001b[0m\u001b[0m\n\u001b[1;32m     66\u001b[0m         \u001b[0mt_state\u001b[0m \u001b[0;34m=\u001b[0m \u001b[0mtorch\u001b[0m\u001b[0;34m.\u001b[0m\u001b[0mtensor\u001b[0m\u001b[0;34m(\u001b[0m\u001b[0mstate\u001b[0m\u001b[0;34m)\u001b[0m\u001b[0;34m.\u001b[0m\u001b[0mfloat\u001b[0m\u001b[0;34m(\u001b[0m\u001b[0;34m)\u001b[0m\u001b[0;34m.\u001b[0m\u001b[0munsqueeze\u001b[0m\u001b[0;34m(\u001b[0m\u001b[0;36m0\u001b[0m\u001b[0;34m)\u001b[0m\u001b[0;34m.\u001b[0m\u001b[0mto\u001b[0m\u001b[0;34m(\u001b[0m\u001b[0mdevice\u001b[0m\u001b[0;34m)\u001b[0m\u001b[0;34m\u001b[0m\u001b[0;34m\u001b[0m\u001b[0m\n\u001b[0;32m---> 67\u001b[0;31m         \u001b[0mact_probs\u001b[0m \u001b[0;34m=\u001b[0m \u001b[0mself\u001b[0m\u001b[0;34m.\u001b[0m\u001b[0mpolicy_model\u001b[0m\u001b[0;34m(\u001b[0m\u001b[0mt_state\u001b[0m\u001b[0;34m)\u001b[0m\u001b[0;34m.\u001b[0m\u001b[0mcpu\u001b[0m\u001b[0;34m(\u001b[0m\u001b[0;34m)\u001b[0m\u001b[0;34m\u001b[0m\u001b[0;34m\u001b[0m\u001b[0m\n\u001b[0m\u001b[1;32m     68\u001b[0m         \u001b[0mact_distr\u001b[0m \u001b[0;34m=\u001b[0m \u001b[0mtorch\u001b[0m\u001b[0;34m.\u001b[0m\u001b[0mdistributions\u001b[0m\u001b[0;34m.\u001b[0m\u001b[0mCategorical\u001b[0m\u001b[0;34m(\u001b[0m\u001b[0mact_probs\u001b[0m\u001b[0;34m)\u001b[0m\u001b[0;34m\u001b[0m\u001b[0;34m\u001b[0m\u001b[0m\n\u001b[1;32m     69\u001b[0m         \u001b[0mact\u001b[0m \u001b[0;34m=\u001b[0m \u001b[0mact_distr\u001b[0m\u001b[0;34m.\u001b[0m\u001b[0msample\u001b[0m\u001b[0;34m(\u001b[0m\u001b[0;34m)\u001b[0m\u001b[0;34m\u001b[0m\u001b[0;34m\u001b[0m\u001b[0m\n",
      "\u001b[0;32m~/.local/lib/python3.7/site-packages/torch/nn/modules/module.py\u001b[0m in \u001b[0;36m__call__\u001b[0;34m(self, *input, **kwargs)\u001b[0m\n\u001b[1;32m    491\u001b[0m             \u001b[0mresult\u001b[0m \u001b[0;34m=\u001b[0m \u001b[0mself\u001b[0m\u001b[0;34m.\u001b[0m\u001b[0m_slow_forward\u001b[0m\u001b[0;34m(\u001b[0m\u001b[0;34m*\u001b[0m\u001b[0minput\u001b[0m\u001b[0;34m,\u001b[0m \u001b[0;34m**\u001b[0m\u001b[0mkwargs\u001b[0m\u001b[0;34m)\u001b[0m\u001b[0;34m\u001b[0m\u001b[0;34m\u001b[0m\u001b[0m\n\u001b[1;32m    492\u001b[0m         \u001b[0;32melse\u001b[0m\u001b[0;34m:\u001b[0m\u001b[0;34m\u001b[0m\u001b[0;34m\u001b[0m\u001b[0m\n\u001b[0;32m--> 493\u001b[0;31m             \u001b[0mresult\u001b[0m \u001b[0;34m=\u001b[0m \u001b[0mself\u001b[0m\u001b[0;34m.\u001b[0m\u001b[0mforward\u001b[0m\u001b[0;34m(\u001b[0m\u001b[0;34m*\u001b[0m\u001b[0minput\u001b[0m\u001b[0;34m,\u001b[0m \u001b[0;34m**\u001b[0m\u001b[0mkwargs\u001b[0m\u001b[0;34m)\u001b[0m\u001b[0;34m\u001b[0m\u001b[0;34m\u001b[0m\u001b[0m\n\u001b[0m\u001b[1;32m    494\u001b[0m         \u001b[0;32mfor\u001b[0m \u001b[0mhook\u001b[0m \u001b[0;32min\u001b[0m \u001b[0mself\u001b[0m\u001b[0;34m.\u001b[0m\u001b[0m_forward_hooks\u001b[0m\u001b[0;34m.\u001b[0m\u001b[0mvalues\u001b[0m\u001b[0;34m(\u001b[0m\u001b[0;34m)\u001b[0m\u001b[0;34m:\u001b[0m\u001b[0;34m\u001b[0m\u001b[0;34m\u001b[0m\u001b[0m\n\u001b[1;32m    495\u001b[0m             \u001b[0mhook_result\u001b[0m \u001b[0;34m=\u001b[0m \u001b[0mhook\u001b[0m\u001b[0;34m(\u001b[0m\u001b[0mself\u001b[0m\u001b[0;34m,\u001b[0m \u001b[0minput\u001b[0m\u001b[0;34m,\u001b[0m \u001b[0mresult\u001b[0m\u001b[0;34m)\u001b[0m\u001b[0;34m\u001b[0m\u001b[0;34m\u001b[0m\u001b[0m\n",
      "\u001b[0;32m<ipython-input-619-b904a090edc8>\u001b[0m in \u001b[0;36mforward\u001b[0;34m(self, inp)\u001b[0m\n\u001b[1;32m     16\u001b[0m \u001b[0;34m\u001b[0m\u001b[0m\n\u001b[1;32m     17\u001b[0m     \u001b[0;32mdef\u001b[0m \u001b[0mforward\u001b[0m\u001b[0;34m(\u001b[0m\u001b[0mself\u001b[0m\u001b[0;34m,\u001b[0m \u001b[0minp\u001b[0m\u001b[0;34m)\u001b[0m\u001b[0;34m:\u001b[0m\u001b[0;34m\u001b[0m\u001b[0;34m\u001b[0m\u001b[0m\n\u001b[0;32m---> 18\u001b[0;31m         \u001b[0;32mreturn\u001b[0m \u001b[0mF\u001b[0m\u001b[0;34m.\u001b[0m\u001b[0msoftmax\u001b[0m\u001b[0;34m(\u001b[0m\u001b[0mself\u001b[0m\u001b[0;34m.\u001b[0m\u001b[0mmain\u001b[0m\u001b[0;34m(\u001b[0m\u001b[0minp\u001b[0m\u001b[0;34m)\u001b[0m\u001b[0;34m.\u001b[0m\u001b[0mview\u001b[0m\u001b[0;34m(\u001b[0m\u001b[0;34m-\u001b[0m\u001b[0;36m1\u001b[0m\u001b[0;34m)\u001b[0m\u001b[0;34m,\u001b[0m \u001b[0mdim\u001b[0m\u001b[0;34m=\u001b[0m\u001b[0;36m0\u001b[0m\u001b[0;34m)\u001b[0m\u001b[0;34m\u001b[0m\u001b[0;34m\u001b[0m\u001b[0m\n\u001b[0m",
      "\u001b[0;32m~/.local/lib/python3.7/site-packages/torch/nn/modules/module.py\u001b[0m in \u001b[0;36m__call__\u001b[0;34m(self, *input, **kwargs)\u001b[0m\n\u001b[1;32m    491\u001b[0m             \u001b[0mresult\u001b[0m \u001b[0;34m=\u001b[0m \u001b[0mself\u001b[0m\u001b[0;34m.\u001b[0m\u001b[0m_slow_forward\u001b[0m\u001b[0;34m(\u001b[0m\u001b[0;34m*\u001b[0m\u001b[0minput\u001b[0m\u001b[0;34m,\u001b[0m \u001b[0;34m**\u001b[0m\u001b[0mkwargs\u001b[0m\u001b[0;34m)\u001b[0m\u001b[0;34m\u001b[0m\u001b[0;34m\u001b[0m\u001b[0m\n\u001b[1;32m    492\u001b[0m         \u001b[0;32melse\u001b[0m\u001b[0;34m:\u001b[0m\u001b[0;34m\u001b[0m\u001b[0;34m\u001b[0m\u001b[0m\n\u001b[0;32m--> 493\u001b[0;31m             \u001b[0mresult\u001b[0m \u001b[0;34m=\u001b[0m \u001b[0mself\u001b[0m\u001b[0;34m.\u001b[0m\u001b[0mforward\u001b[0m\u001b[0;34m(\u001b[0m\u001b[0;34m*\u001b[0m\u001b[0minput\u001b[0m\u001b[0;34m,\u001b[0m \u001b[0;34m**\u001b[0m\u001b[0mkwargs\u001b[0m\u001b[0;34m)\u001b[0m\u001b[0;34m\u001b[0m\u001b[0;34m\u001b[0m\u001b[0m\n\u001b[0m\u001b[1;32m    494\u001b[0m         \u001b[0;32mfor\u001b[0m \u001b[0mhook\u001b[0m \u001b[0;32min\u001b[0m \u001b[0mself\u001b[0m\u001b[0;34m.\u001b[0m\u001b[0m_forward_hooks\u001b[0m\u001b[0;34m.\u001b[0m\u001b[0mvalues\u001b[0m\u001b[0;34m(\u001b[0m\u001b[0;34m)\u001b[0m\u001b[0;34m:\u001b[0m\u001b[0;34m\u001b[0m\u001b[0;34m\u001b[0m\u001b[0m\n\u001b[1;32m    495\u001b[0m             \u001b[0mhook_result\u001b[0m \u001b[0;34m=\u001b[0m \u001b[0mhook\u001b[0m\u001b[0;34m(\u001b[0m\u001b[0mself\u001b[0m\u001b[0;34m,\u001b[0m \u001b[0minput\u001b[0m\u001b[0;34m,\u001b[0m \u001b[0mresult\u001b[0m\u001b[0;34m)\u001b[0m\u001b[0;34m\u001b[0m\u001b[0;34m\u001b[0m\u001b[0m\n",
      "\u001b[0;32m~/.local/lib/python3.7/site-packages/torch/nn/modules/container.py\u001b[0m in \u001b[0;36mforward\u001b[0;34m(self, input)\u001b[0m\n\u001b[1;32m     90\u001b[0m     \u001b[0;32mdef\u001b[0m \u001b[0mforward\u001b[0m\u001b[0;34m(\u001b[0m\u001b[0mself\u001b[0m\u001b[0;34m,\u001b[0m \u001b[0minput\u001b[0m\u001b[0;34m)\u001b[0m\u001b[0;34m:\u001b[0m\u001b[0;34m\u001b[0m\u001b[0;34m\u001b[0m\u001b[0m\n\u001b[1;32m     91\u001b[0m         \u001b[0;32mfor\u001b[0m \u001b[0mmodule\u001b[0m \u001b[0;32min\u001b[0m \u001b[0mself\u001b[0m\u001b[0;34m.\u001b[0m\u001b[0m_modules\u001b[0m\u001b[0;34m.\u001b[0m\u001b[0mvalues\u001b[0m\u001b[0;34m(\u001b[0m\u001b[0;34m)\u001b[0m\u001b[0;34m:\u001b[0m\u001b[0;34m\u001b[0m\u001b[0;34m\u001b[0m\u001b[0m\n\u001b[0;32m---> 92\u001b[0;31m             \u001b[0minput\u001b[0m \u001b[0;34m=\u001b[0m \u001b[0mmodule\u001b[0m\u001b[0;34m(\u001b[0m\u001b[0minput\u001b[0m\u001b[0;34m)\u001b[0m\u001b[0;34m\u001b[0m\u001b[0;34m\u001b[0m\u001b[0m\n\u001b[0m\u001b[1;32m     93\u001b[0m         \u001b[0;32mreturn\u001b[0m \u001b[0minput\u001b[0m\u001b[0;34m\u001b[0m\u001b[0;34m\u001b[0m\u001b[0m\n\u001b[1;32m     94\u001b[0m \u001b[0;34m\u001b[0m\u001b[0m\n",
      "\u001b[0;32m~/.local/lib/python3.7/site-packages/torch/nn/modules/module.py\u001b[0m in \u001b[0;36m__call__\u001b[0;34m(self, *input, **kwargs)\u001b[0m\n\u001b[1;32m    486\u001b[0m \u001b[0;34m\u001b[0m\u001b[0m\n\u001b[1;32m    487\u001b[0m     \u001b[0;32mdef\u001b[0m \u001b[0m__call__\u001b[0m\u001b[0;34m(\u001b[0m\u001b[0mself\u001b[0m\u001b[0;34m,\u001b[0m \u001b[0;34m*\u001b[0m\u001b[0minput\u001b[0m\u001b[0;34m,\u001b[0m \u001b[0;34m**\u001b[0m\u001b[0mkwargs\u001b[0m\u001b[0;34m)\u001b[0m\u001b[0;34m:\u001b[0m\u001b[0;34m\u001b[0m\u001b[0;34m\u001b[0m\u001b[0m\n\u001b[0;32m--> 488\u001b[0;31m         \u001b[0;32mfor\u001b[0m \u001b[0mhook\u001b[0m \u001b[0;32min\u001b[0m \u001b[0mself\u001b[0m\u001b[0;34m.\u001b[0m\u001b[0m_forward_pre_hooks\u001b[0m\u001b[0;34m.\u001b[0m\u001b[0mvalues\u001b[0m\u001b[0;34m(\u001b[0m\u001b[0;34m)\u001b[0m\u001b[0;34m:\u001b[0m\u001b[0;34m\u001b[0m\u001b[0;34m\u001b[0m\u001b[0m\n\u001b[0m\u001b[1;32m    489\u001b[0m             \u001b[0mhook\u001b[0m\u001b[0;34m(\u001b[0m\u001b[0mself\u001b[0m\u001b[0;34m,\u001b[0m \u001b[0minput\u001b[0m\u001b[0;34m)\u001b[0m\u001b[0;34m\u001b[0m\u001b[0;34m\u001b[0m\u001b[0m\n\u001b[1;32m    490\u001b[0m         \u001b[0;32mif\u001b[0m \u001b[0mtorch\u001b[0m\u001b[0;34m.\u001b[0m\u001b[0m_C\u001b[0m\u001b[0;34m.\u001b[0m\u001b[0m_get_tracing_state\u001b[0m\u001b[0;34m(\u001b[0m\u001b[0;34m)\u001b[0m\u001b[0;34m:\u001b[0m\u001b[0;34m\u001b[0m\u001b[0;34m\u001b[0m\u001b[0m\n",
      "\u001b[0;31mKeyboardInterrupt\u001b[0m: "
     ]
    }
   ],
   "source": [
    "#if env: env.close()\n",
    "env = gym.make('CartPole-v1')\n",
    "\n",
    "buffer = ReplayBuffer()\n",
    "agent = Agent(buffer)\n",
    "\n",
    "total_rewards = []\n",
    "\n",
    "for e in tqdm(range(1000)):\n",
    "    \n",
    "    s = env.reset()\n",
    "    a, probs = agent.select([s])\n",
    "    \n",
    "    total_reward = 0\n",
    "    \n",
    "    for t in range(2000):\n",
    "        s_, r, done, info = env.step(a)\n",
    "        \n",
    "        total_reward += r\n",
    "        \n",
    "        buffer.add_obs( probs, s_, r, done )\n",
    "        \n",
    "        a, probs = agent.select([s_])\n",
    "        \n",
    "        if done:\n",
    "            total_rewards += [total_reward]\n",
    "            \n",
    "            #print('reward', total_reward)\n",
    "            loss = agent.train_iter()\n",
    "            if e % 10 == 0:\n",
    "                print(f'Episiode {e}, episode reward {total_reward}, total reward {np.round(np.mean(total_rewards),2)} loss: {loss}')\n",
    "            \n",
    "            break\n",
    "        \n",
    "        "
   ]
  },
  {
   "cell_type": "code",
   "execution_count": 627,
   "metadata": {},
   "outputs": [
    {
     "data": {
      "text/plain": [
       "[<matplotlib.lines.Line2D at 0x7f5da7fae4e0>]"
      ]
     },
     "execution_count": 627,
     "metadata": {},
     "output_type": "execute_result"
    },
    {
     "data": {
      "image/png": "[encoded data removed]",
      "text/plain": [
       "<Figure size 432x288 with 1 Axes>"
      ]
     },
     "metadata": {
      "needs_background": "light"
     },
     "output_type": "display_data"
    }
   ],
   "source": [
    "plt.plot(ma(ma(total_rewards,100), 1))\n"
   ]
  },
  {
   "cell_type": "code",
   "execution_count": null,
   "metadata": {},
   "outputs": [],
   "source": []
  },
  {
   "cell_type": "markdown",
   "metadata": {},
   "source": [
    "## A2C\n",
    "\n",
    "Advantage batch actor critic"
   ]
  },
  {
   "cell_type": "code",
   "execution_count": 4,
   "metadata": {},
   "outputs": [],
   "source": [
    "GAMMA = 0.99\n",
    "LEARNING_RATE = 0.02\n",
    "BETAS = (0.9, 0.999)"
   ]
  },
  {
   "cell_type": "code",
   "execution_count": 5,
   "metadata": {},
   "outputs": [],
   "source": [
    "class PG(nn.Module):\n",
    "    def __init__(self, inner_size=[64,64]):\n",
    "        super(PG,self).__init__()\n",
    "        \n",
    "        self.actoin_space = env.action_space.n\n",
    "        self.observation_space = env.observation_space.shape[0]\n",
    "        \n",
    "        seq = []\n",
    "        for i in range(len(inner_size)):\n",
    "            if i == 0:\n",
    "                seq += [nn.Linear(self.observation_space, inner_size[i])]\n",
    "                seq += [nn.ReLU()]\n",
    "            if i == len(inner_size)-1:\n",
    "                seq += [nn.Linear(inner_size[i], self.actoin_space)]\n",
    "            else:\n",
    "                seq += [nn.Linear(inner_size[i-1], inner_size[i])]\n",
    "            \n",
    "            if i < len(inner_size)-1:\n",
    "                seq += [nn.ReLU()]\n",
    "        \n",
    "        self.main = nn.Sequential(\n",
    "            *seq\n",
    "        )\n",
    "        \n",
    "        self.main.apply(self.init_w)\n",
    "    \n",
    "    def init_w(self, a):\n",
    "        if isinstance(a, nn.Linear):\n",
    "            torch.nn.init.xavier_uniform(a.weight)\n",
    "        \n",
    "    \n",
    "    def forward(self, inp):\n",
    "        return F.softmax(self.main(inp).view(-1), dim=0)\n",
    "\n",
    "class Critic(nn.Module):\n",
    "    def __init__(self, inner_size):\n",
    "        super(Critic,self).__init__()\n",
    "        \n",
    "        self.actoin_space = env.action_space.n\n",
    "        self.observation_space = env.observation_space.shape[0]\n",
    "        \n",
    "        seq = []\n",
    "        for i in range(len(inner_size)):\n",
    "            if i == 0:\n",
    "                seq += [nn.Linear(self.observation_space, inner_size[i])]\n",
    "                seq += [nn.ReLU()]\n",
    "            if i == len(inner_size)-1:\n",
    "                seq += [nn.Linear(inner_size[i], 1)]\n",
    "                #seq += [nn.Linear(inner_size[i], self.actoin_space)]\n",
    "            else:\n",
    "                seq += [nn.Linear(inner_size[i-1], inner_size[i])]\n",
    "            \n",
    "            if i < len(inner_size)-1:\n",
    "                seq += [nn.ReLU()]\n",
    "        \n",
    "        self.main = nn.Sequential(\n",
    "            *seq\n",
    "        )\n",
    "        \n",
    "        self.main.apply(self.init_w)\n",
    "    \n",
    "    def init_w(self, a):\n",
    "        if isinstance(a, nn.Linear):\n",
    "            torch.nn.init.xavier_uniform(a.weight)\n",
    "    \n",
    "    def forward(self, inp):\n",
    "        return self.main(inp)\n",
    "\n",
    "class ReplayBufferAC():\n",
    "    def __init__(self, size = 100):\n",
    "        \n",
    "        self.size = size\n",
    "        self.actoin_space = env.action_space.n\n",
    "        self.observation_space = env.observation_space.shape[0]\n",
    "        \n",
    "        self.states = []\n",
    "        self.probs = []\n",
    "        self.rewards = []\n",
    "        \n",
    "        self.eps = torch.tensor(1e-8).to(device)\n",
    "        \n",
    "        self.begin_episode()\n",
    "        \n",
    "    def begin_episode(self):\n",
    "        self.actions = []\n",
    "        self.states = []\n",
    "        self.probs = []\n",
    "        self.rewards = []\n",
    "        \n",
    "    def add_obs(self, a, p, s, r, d):\n",
    "        \n",
    "        self.actions += [a]\n",
    "        self.states += [s]\n",
    "        self.probs += [p]\n",
    "        self.rewards += [r]\n",
    "        \n",
    "    def sample_actor(self):\n",
    "        \n",
    "        probs = torch.cat(self.probs).view(-1).to(device)\n",
    "        \n",
    "        return probs\n",
    "    \n",
    "    def sample_critic(self):\n",
    "        \n",
    "        states = np.concatenate(self.states).reshape(-1, self.observation_space)\n",
    "        states = torch.tensor(states).to(device)\n",
    "        actions = torch.tensor(self.actions).to(device)\n",
    "        rewards = torch.tensor(self.rewards).to(device)\n",
    "        next_states = torch.roll(states,-1)\n",
    "        next_action_mask = torch.ones(len(self.rewards)).to(device)\n",
    "        next_action_mask[-1] = 0.0\n",
    "        \n",
    "        returns = [np.dot( GAMMA**np.arange(1,len(self.rewards)-i+1), self.rewards[i:] ) for i in range(len(self.rewards))]\n",
    "        returns = torch.tensor(returns).to(device)\n",
    "        returns = (returns - returns.mean()) / (returns.std() + self.eps)\n",
    "        \n",
    "        return states, next_states, actions, rewards, next_action_mask, returns\n",
    "\n",
    "class AgentAC():\n",
    "    def __init__(self, rb):\n",
    "        \n",
    "        self.policy_model = PG([128]).to(device)\n",
    "        self.value_model = Critic([128]).to(device)\n",
    "        \n",
    "        self.actoin_space = env.action_space.n\n",
    "        \n",
    "        self.replay = rb\n",
    "        \n",
    "        self.policy_opt = torch.optim.Adam(\n",
    "            self.policy_model.parameters(), lr=LEARNING_RATE,\n",
    "        )\n",
    "        \n",
    "        self.value_opt = torch.optim.Adam(\n",
    "            self.value_model.parameters(), lr=LEARNING_RATE\n",
    "        )\n",
    "    \n",
    "    def train_critic(self, states, next_states, actions, rewards, next_state_masks, returns_r):\n",
    "        \n",
    "        actions_mask = torch.zeros((actions.shape[0], self.actoin_space)).\\\n",
    "            to(device).scatter_(1, actions.view(-1,1), 1).byte()\n",
    "        \n",
    "        loss = F.smooth_l1_loss(self.value_model(states.float()).view(-1), returns_r)\n",
    "        \n",
    "        self.value_opt.zero_grad()\n",
    "        loss.backward()\n",
    "        self.value_opt.step()\n",
    "        \n",
    "        return loss.item()\n",
    "        \n",
    "    def train_actor(self, log_probs, returns):\n",
    "        \n",
    "        loss = (-log_probs * returns).mean()\n",
    "        \n",
    "        self.policy_opt.zero_grad()\n",
    "        loss.backward()\n",
    "        self.policy_opt.step()\n",
    "        \n",
    "        return loss.item()\n",
    "    \n",
    "    def train_iter(self):\n",
    "        \n",
    "        log_probs = self.replay.sample_actor()\n",
    "        states, next_states, actions, rewards, next_state_masks, returns_r = self.replay.sample_critic()\n",
    "        \n",
    "        returns_ac = returns_r - self.value_model(states.float()).clone().detach().view(-1)\n",
    "        \n",
    "        actor_loss = self.train_actor(log_probs, returns_ac)\n",
    "        \n",
    "        critic_loss = self.train_critic(states, next_states, actions, rewards, next_state_masks, returns_r)\n",
    "        \n",
    "        return actor_loss, critic_loss\n",
    "    \n",
    "    def select(self, state, explore=True):\n",
    "        \n",
    "        t_state = torch.tensor(state).float().unsqueeze(0).to(device)\n",
    "        act_probs = self.policy_model(t_state).cpu()\n",
    "        act_distr = torch.distributions.Categorical(act_probs)\n",
    "        \n",
    "        if not explore:\n",
    "            act = act_probs.argmax()\n",
    "            #print(act)\n",
    "            log_probs = None\n",
    "        else:\n",
    "            act = act_distr.sample()\n",
    "            log_probs = act_distr.log_prob(act).view(1,-1)\n",
    "        \n",
    "        return act.item(), log_probs        \n",
    "        "
   ]
  },
  {
   "cell_type": "code",
   "execution_count": null,
   "metadata": {},
   "outputs": [],
   "source": []
  },
  {
   "cell_type": "code",
   "execution_count": 27,
   "metadata": {},
   "outputs": [],
   "source": [
    "def run_eval():\n",
    "    \n",
    "    print('Eval')\n",
    "    \n",
    "    s = env.reset()\n",
    "    a, probs = agent.select([s], False)\n",
    "    \n",
    "    for t in range(2000):\n",
    "        \n",
    "        s_, r, done, info = env.step(a)\n",
    "        a, probs = agent.select([s_], False)\n",
    "        s = s_\n",
    "\n",
    "        env.render()\n",
    "\n",
    "        if done:\n",
    "            env.reset()\n",
    "            break"
   ]
  },
  {
   "cell_type": "code",
   "execution_count": 631,
   "metadata": {
    "scrolled": true
   },
   "outputs": [
    {
     "name": "stderr",
     "output_type": "stream",
     "text": [
      "/opt/conda/lib/python3.7/site-packages/ipykernel_launcher.py:29: UserWarning: nn.init.xavier_uniform is now deprecated in favor of nn.init.xavier_uniform_.\n",
      "/opt/conda/lib/python3.7/site-packages/ipykernel_launcher.py:64: UserWarning: nn.init.xavier_uniform is now deprecated in favor of nn.init.xavier_uniform_.\n"
     ]
    },
    {
     "data": {
      "application/vnd.jupyter.widget-view+json": {
       "model_id": "94529571c659488abfd6a406b4bf0caf",
       "version_major": 2,
       "version_minor": 0
      },
      "text/plain": [
       "HBox(children=(IntProgress(value=0, max=2000), HTML(value='')))"
      ]
     },
     "metadata": {},
     "output_type": "display_data"
    },
    {
     "name": "stdout",
     "output_type": "stream",
     "text": [
      "Episiode 9, episode reward -186.03, total reward -186.03, loss: (0.24635688960552216, 1.0956008434295654)\n",
      "Episiode 19, episode reward -150.64, total reward -168.34, loss: (0.10995705425739288, 0.44929996132850647)\n",
      "Episiode 29, episode reward -169.51, total reward -168.73, loss: (-0.03542198985815048, 0.2960583567619324)\n",
      "Episiode 39, episode reward -173.85, total reward -170.01, loss: (0.07044672220945358, 0.2104223668575287)\n",
      "Episiode 49, episode reward -105.76, total reward -157.16, loss: (-0.02748086489737034, 0.29463714361190796)\n",
      "Episiode 59, episode reward -88.24, total reward -145.67, loss: (0.06793536245822906, 0.45005732774734497)\n",
      "Episiode 69, episode reward -110.64, total reward -140.67, loss: (-0.15976259112358093, 0.14051999151706696)\n",
      "Episiode 79, episode reward -155.12, total reward -142.47, loss: (0.06681934744119644, 0.3102479875087738)\n",
      "Episiode 89, episode reward -100.37, total reward -137.8, loss: (-0.11373952031135559, 0.05020476505160332)\n",
      "Episiode 99, episode reward -174.0, total reward -141.42, loss: (-0.20337505638599396, 0.154571995139122)\n",
      "Episiode 109, episode reward -307.4, total reward -156.51, loss: (-0.4356831908226013, 0.5893345475196838)\n",
      "Episiode 119, episode reward -103.59, total reward -152.1, loss: (0.48289749026298523, 0.2899303138256073)\n",
      "Episiode 129, episode reward -152.13, total reward -152.1, loss: (0.21018986403942108, 0.2849619686603546)\n",
      "Episiode 139, episode reward -63.8, total reward -145.79, loss: (-0.2839556932449341, 0.48398932814598083)\n",
      "Episiode 149, episode reward -26.78, total reward -137.86, loss: (-0.10754285007715225, 0.20308446884155273)\n",
      "Episiode 159, episode reward -78.11, total reward -134.12, loss: (0.2420826256275177, 0.20400895178318024)\n",
      "Episiode 169, episode reward -47.15, total reward -129.01, loss: (0.05721181258559227, 0.23631612956523895)\n",
      "Episiode 179, episode reward -7.48, total reward -122.26, loss: (0.10426825284957886, 0.11977947503328323)\n",
      "Episiode 189, episode reward -36.78, total reward -117.76, loss: (0.06236449256539345, 0.11198794841766357)\n",
      "Episiode 199, episode reward -42.14, total reward -113.98, loss: (-0.3045097291469574, 0.20383508503437042)\n",
      "Episiode 209, episode reward 3.1, total reward -108.4, loss: (0.25130772590637207, 0.15283188223838806)\n",
      "Episiode 219, episode reward -2.41, total reward -103.58, loss: (0.2770986557006836, 0.12978217005729675)\n",
      "Episiode 229, episode reward -22.12, total reward -100.04, loss: (0.07090228796005249, 0.1073199138045311)\n",
      "Episiode 239, episode reward -10.31, total reward -96.3, loss: (0.11922986805438995, 0.038381800055503845)\n",
      "Episiode 249, episode reward -8.56, total reward -92.79, loss: (0.5399521589279175, 0.43775391578674316)\n",
      "Episiode 259, episode reward 30.01, total reward -88.07, loss: (0.024618443101644516, 0.09625157713890076)\n",
      "Episiode 269, episode reward -19.02, total reward -85.51, loss: (-0.06466955691576004, 0.07749297469854355)\n",
      "Episiode 279, episode reward 28.96, total reward -81.42, loss: (-0.14579956233501434, 0.024426104500889778)\n",
      "Episiode 289, episode reward 63.22, total reward -76.44, loss: (0.009106217883527279, 0.860328733921051)\n",
      "Episiode 299, episode reward 29.16, total reward -72.92, loss: (-0.5718173980712891, 0.31552597880363464)\n",
      "Episiode 309, episode reward 49.18, total reward -68.98, loss: (-0.049445100128650665, 0.06216636672616005)\n",
      "Episiode 319, episode reward -24.77, total reward -67.6, loss: (0.7121397256851196, 0.8051325082778931)\n",
      "Episiode 329, episode reward -70.13, total reward -67.67, loss: (-0.03953564167022705, 0.11624264717102051)\n",
      "Episiode 339, episode reward -63.77, total reward -67.56, loss: (-0.11179563403129578, 0.022593671455979347)\n",
      "Episiode 349, episode reward -93.11, total reward -68.29, loss: (-0.00921778567135334, 0.03662051633000374)\n",
      "Episiode 359, episode reward -125.81, total reward -69.89, loss: (-0.01416749320924282, 0.06349489837884903)\n",
      "Episiode 369, episode reward -29.69, total reward -68.8, loss: (-0.1850426197052002, 0.09599592536687851)\n",
      "Episiode 379, episode reward -3.64, total reward -67.09, loss: (-0.2704102694988251, 0.117508165538311)\n",
      "Episiode 389, episode reward 29.88, total reward -64.6, loss: (-0.04892107471823692, 0.16268792748451233)\n",
      "Episiode 399, episode reward -30.89, total reward -63.76, loss: (-0.12180503457784653, 0.033586058765649796)\n",
      "Episiode 409, episode reward 147.08, total reward -58.61, loss: (-0.11170176416635513, 0.24518555402755737)\n",
      "Episiode 419, episode reward -15.4, total reward -57.59, loss: (0.39878490567207336, 0.3440045714378357)\n",
      "Episiode 429, episode reward -72.15, total reward -57.92, loss: (0.426660418510437, 0.2205994874238968)\n",
      "Episiode 439, episode reward -7.79, total reward -56.78, loss: (-0.17180699110031128, 0.1293739229440689)\n",
      "Episiode 449, episode reward -78.94, total reward -57.28, loss: (0.2000892162322998, 0.06244676932692528)\n",
      "Episiode 459, episode reward -147.21, total reward -59.23, loss: (-0.5698131322860718, 0.5574518442153931)\n",
      "Episiode 469, episode reward -146.01, total reward -61.08, loss: (0.39847853779792786, 0.3976673483848572)\n",
      "Episiode 479, episode reward -60.76, total reward -61.07, loss: (0.17829079926013947, 0.3430166244506836)\n",
      "Episiode 489, episode reward -41.73, total reward -60.68, loss: (0.1656104177236557, 0.2887590825557709)\n",
      "Episiode 499, episode reward 46.08, total reward -58.54, loss: (0.061021119356155396, 0.2475157231092453)\n",
      "Episiode 509, episode reward 37.74, total reward -56.65, loss: (-0.29681387543678284, 0.41787949204444885)\n",
      "Episiode 519, episode reward 122.93, total reward -53.2, loss: (-0.007091274484992027, 0.2567625343799591)\n",
      "Episiode 529, episode reward 119.78, total reward -49.94, loss: (-0.0053405542857944965, 0.2673948109149933)\n",
      "Episiode 539, episode reward 186.37, total reward -45.56, loss: (-0.26357728242874146, 0.2627703547477722)\n",
      "Episiode 549, episode reward 207.69, total reward -40.96, loss: (0.17437277734279633, 0.22839844226837158)\n",
      "Episiode 559, episode reward 174.56, total reward -37.11, loss: (0.09721200913190842, 0.2056201696395874)\n",
      "Episiode 569, episode reward 107.68, total reward -34.57, loss: (-0.294456422328949, 0.3892652690410614)\n",
      "Episiode 579, episode reward 111.73, total reward -32.05, loss: (0.3080856502056122, 0.2859293520450592)\n",
      "Episiode 589, episode reward 48.63, total reward -30.68, loss: (0.01621869020164013, 0.16486188769340515)\n"
     ]
    },
    {
     "ename": "KeyboardInterrupt",
     "evalue": "",
     "output_type": "error",
     "traceback": [
      "\u001b[0;31m---------------------------------------------------------------------------\u001b[0m",
      "\u001b[0;31mKeyboardInterrupt\u001b[0m                         Traceback (most recent call last)",
      "\u001b[0;32m<ipython-input-631-a389a4060f2b>\u001b[0m in \u001b[0;36m<module>\u001b[0;34m\u001b[0m\n\u001b[1;32m     18\u001b[0m \u001b[0;34m\u001b[0m\u001b[0m\n\u001b[1;32m     19\u001b[0m     \u001b[0;32mfor\u001b[0m \u001b[0mt\u001b[0m \u001b[0;32min\u001b[0m \u001b[0mrange\u001b[0m\u001b[0;34m(\u001b[0m\u001b[0;36m2000\u001b[0m\u001b[0;34m)\u001b[0m\u001b[0;34m:\u001b[0m\u001b[0;34m\u001b[0m\u001b[0;34m\u001b[0m\u001b[0m\n\u001b[0;32m---> 20\u001b[0;31m         \u001b[0ms_\u001b[0m\u001b[0;34m,\u001b[0m \u001b[0mr\u001b[0m\u001b[0;34m,\u001b[0m \u001b[0mdone\u001b[0m\u001b[0;34m,\u001b[0m \u001b[0minfo\u001b[0m \u001b[0;34m=\u001b[0m \u001b[0menv\u001b[0m\u001b[0;34m.\u001b[0m\u001b[0mstep\u001b[0m\u001b[0;34m(\u001b[0m\u001b[0ma\u001b[0m\u001b[0;34m)\u001b[0m\u001b[0;34m\u001b[0m\u001b[0;34m\u001b[0m\u001b[0m\n\u001b[0m\u001b[1;32m     21\u001b[0m \u001b[0;34m\u001b[0m\u001b[0m\n\u001b[1;32m     22\u001b[0m         \u001b[0mtotal_reward\u001b[0m \u001b[0;34m+=\u001b[0m \u001b[0mr\u001b[0m\u001b[0;34m\u001b[0m\u001b[0;34m\u001b[0m\u001b[0m\n",
      "\u001b[0;32m~/.local/lib/python3.7/site-packages/gym/wrappers/time_limit.py\u001b[0m in \u001b[0;36mstep\u001b[0;34m(self, action)\u001b[0m\n\u001b[1;32m     13\u001b[0m     \u001b[0;32mdef\u001b[0m \u001b[0mstep\u001b[0m\u001b[0;34m(\u001b[0m\u001b[0mself\u001b[0m\u001b[0;34m,\u001b[0m \u001b[0maction\u001b[0m\u001b[0;34m)\u001b[0m\u001b[0;34m:\u001b[0m\u001b[0;34m\u001b[0m\u001b[0;34m\u001b[0m\u001b[0m\n\u001b[1;32m     14\u001b[0m         \u001b[0;32massert\u001b[0m \u001b[0mself\u001b[0m\u001b[0;34m.\u001b[0m\u001b[0m_elapsed_steps\u001b[0m \u001b[0;32mis\u001b[0m \u001b[0;32mnot\u001b[0m \u001b[0;32mNone\u001b[0m\u001b[0;34m,\u001b[0m \u001b[0;34m\"Cannot call env.step() before calling reset()\"\u001b[0m\u001b[0;34m\u001b[0m\u001b[0;34m\u001b[0m\u001b[0m\n\u001b[0;32m---> 15\u001b[0;31m         \u001b[0mobservation\u001b[0m\u001b[0;34m,\u001b[0m \u001b[0mreward\u001b[0m\u001b[0;34m,\u001b[0m \u001b[0mdone\u001b[0m\u001b[0;34m,\u001b[0m \u001b[0minfo\u001b[0m \u001b[0;34m=\u001b[0m \u001b[0mself\u001b[0m\u001b[0;34m.\u001b[0m\u001b[0menv\u001b[0m\u001b[0;34m.\u001b[0m\u001b[0mstep\u001b[0m\u001b[0;34m(\u001b[0m\u001b[0maction\u001b[0m\u001b[0;34m)\u001b[0m\u001b[0;34m\u001b[0m\u001b[0;34m\u001b[0m\u001b[0m\n\u001b[0m\u001b[1;32m     16\u001b[0m         \u001b[0mself\u001b[0m\u001b[0;34m.\u001b[0m\u001b[0m_elapsed_steps\u001b[0m \u001b[0;34m+=\u001b[0m \u001b[0;36m1\u001b[0m\u001b[0;34m\u001b[0m\u001b[0;34m\u001b[0m\u001b[0m\n\u001b[1;32m     17\u001b[0m         \u001b[0;32mif\u001b[0m \u001b[0mself\u001b[0m\u001b[0;34m.\u001b[0m\u001b[0m_elapsed_steps\u001b[0m \u001b[0;34m>=\u001b[0m \u001b[0mself\u001b[0m\u001b[0;34m.\u001b[0m\u001b[0m_max_episode_steps\u001b[0m\u001b[0;34m:\u001b[0m\u001b[0;34m\u001b[0m\u001b[0;34m\u001b[0m\u001b[0m\n",
      "\u001b[0;32m~/.local/lib/python3.7/site-packages/gym/envs/box2d/lunar_lander.py\u001b[0m in \u001b[0;36mstep\u001b[0;34m(self, action)\u001b[0m\n\u001b[1;32m    279\u001b[0m             \u001b[0mself\u001b[0m\u001b[0;34m.\u001b[0m\u001b[0mlander\u001b[0m\u001b[0;34m.\u001b[0m\u001b[0mApplyLinearImpulse\u001b[0m\u001b[0;34m(\u001b[0m \u001b[0;34m(\u001b[0m\u001b[0;34m-\u001b[0m\u001b[0mox\u001b[0m\u001b[0;34m*\u001b[0m\u001b[0mSIDE_ENGINE_POWER\u001b[0m\u001b[0;34m*\u001b[0m\u001b[0ms_power\u001b[0m\u001b[0;34m,\u001b[0m \u001b[0;34m-\u001b[0m\u001b[0moy\u001b[0m\u001b[0;34m*\u001b[0m\u001b[0mSIDE_ENGINE_POWER\u001b[0m\u001b[0;34m*\u001b[0m\u001b[0ms_power\u001b[0m\u001b[0;34m)\u001b[0m\u001b[0;34m,\u001b[0m \u001b[0mimpulse_pos\u001b[0m\u001b[0;34m,\u001b[0m \u001b[0;32mTrue\u001b[0m\u001b[0;34m)\u001b[0m\u001b[0;34m\u001b[0m\u001b[0;34m\u001b[0m\u001b[0m\n\u001b[1;32m    280\u001b[0m \u001b[0;34m\u001b[0m\u001b[0m\n\u001b[0;32m--> 281\u001b[0;31m         \u001b[0mself\u001b[0m\u001b[0;34m.\u001b[0m\u001b[0mworld\u001b[0m\u001b[0;34m.\u001b[0m\u001b[0mStep\u001b[0m\u001b[0;34m(\u001b[0m\u001b[0;36m1.0\u001b[0m\u001b[0;34m/\u001b[0m\u001b[0mFPS\u001b[0m\u001b[0;34m,\u001b[0m \u001b[0;36m6\u001b[0m\u001b[0;34m*\u001b[0m\u001b[0;36m30\u001b[0m\u001b[0;34m,\u001b[0m \u001b[0;36m2\u001b[0m\u001b[0;34m*\u001b[0m\u001b[0;36m30\u001b[0m\u001b[0;34m)\u001b[0m\u001b[0;34m\u001b[0m\u001b[0;34m\u001b[0m\u001b[0m\n\u001b[0m\u001b[1;32m    282\u001b[0m \u001b[0;34m\u001b[0m\u001b[0m\n\u001b[1;32m    283\u001b[0m         \u001b[0mpos\u001b[0m \u001b[0;34m=\u001b[0m \u001b[0mself\u001b[0m\u001b[0;34m.\u001b[0m\u001b[0mlander\u001b[0m\u001b[0;34m.\u001b[0m\u001b[0mposition\u001b[0m\u001b[0;34m\u001b[0m\u001b[0;34m\u001b[0m\u001b[0m\n",
      "\u001b[0;32m~/.local/lib/python3.7/site-packages/gym/envs/box2d/lunar_lander.py\u001b[0m in \u001b[0;36mBeginContact\u001b[0;34m(self, contact)\u001b[0m\n\u001b[1;32m     60\u001b[0m         \u001b[0mcontactListener\u001b[0m\u001b[0;34m.\u001b[0m\u001b[0m__init__\u001b[0m\u001b[0;34m(\u001b[0m\u001b[0mself\u001b[0m\u001b[0;34m)\u001b[0m\u001b[0;34m\u001b[0m\u001b[0;34m\u001b[0m\u001b[0m\n\u001b[1;32m     61\u001b[0m         \u001b[0mself\u001b[0m\u001b[0;34m.\u001b[0m\u001b[0menv\u001b[0m \u001b[0;34m=\u001b[0m \u001b[0menv\u001b[0m\u001b[0;34m\u001b[0m\u001b[0;34m\u001b[0m\u001b[0m\n\u001b[0;32m---> 62\u001b[0;31m     \u001b[0;32mdef\u001b[0m \u001b[0mBeginContact\u001b[0m\u001b[0;34m(\u001b[0m\u001b[0mself\u001b[0m\u001b[0;34m,\u001b[0m \u001b[0mcontact\u001b[0m\u001b[0;34m)\u001b[0m\u001b[0;34m:\u001b[0m\u001b[0;34m\u001b[0m\u001b[0;34m\u001b[0m\u001b[0m\n\u001b[0m\u001b[1;32m     63\u001b[0m         \u001b[0;32mif\u001b[0m \u001b[0mself\u001b[0m\u001b[0;34m.\u001b[0m\u001b[0menv\u001b[0m\u001b[0;34m.\u001b[0m\u001b[0mlander\u001b[0m\u001b[0;34m==\u001b[0m\u001b[0mcontact\u001b[0m\u001b[0;34m.\u001b[0m\u001b[0mfixtureA\u001b[0m\u001b[0;34m.\u001b[0m\u001b[0mbody\u001b[0m \u001b[0;32mor\u001b[0m \u001b[0mself\u001b[0m\u001b[0;34m.\u001b[0m\u001b[0menv\u001b[0m\u001b[0;34m.\u001b[0m\u001b[0mlander\u001b[0m\u001b[0;34m==\u001b[0m\u001b[0mcontact\u001b[0m\u001b[0;34m.\u001b[0m\u001b[0mfixtureB\u001b[0m\u001b[0;34m.\u001b[0m\u001b[0mbody\u001b[0m\u001b[0;34m:\u001b[0m\u001b[0;34m\u001b[0m\u001b[0;34m\u001b[0m\u001b[0m\n\u001b[1;32m     64\u001b[0m             \u001b[0mself\u001b[0m\u001b[0;34m.\u001b[0m\u001b[0menv\u001b[0m\u001b[0;34m.\u001b[0m\u001b[0mgame_over\u001b[0m \u001b[0;34m=\u001b[0m \u001b[0;32mTrue\u001b[0m\u001b[0;34m\u001b[0m\u001b[0;34m\u001b[0m\u001b[0m\n",
      "\u001b[0;31mKeyboardInterrupt\u001b[0m: "
     ]
    }
   ],
   "source": [
    "env = gym.make('LunarLander-v2')\n",
    "env.seed(42)\n",
    "torch.manual_seed(42)\n",
    "\n",
    "buffer = ReplayBufferAC()\n",
    "agent = AgentAC(buffer)\n",
    "\n",
    "total_rewards = []\n",
    "\n",
    "for e in tqdm(range(2000)):\n",
    "    \n",
    "    buffer.begin_episode()\n",
    "    \n",
    "    s = env.reset()\n",
    "    a, probs = agent.select([s])\n",
    "    \n",
    "    total_reward = 0\n",
    "    \n",
    "    for t in range(2000):\n",
    "        s_, r, done, info = env.step(a)\n",
    "\n",
    "        total_reward += r\n",
    "\n",
    "        buffer.add_obs( a, probs, s, r, done )\n",
    "\n",
    "        a, probs = agent.select([s_])\n",
    "\n",
    "        s = s_\n",
    "\n",
    "        if done:\n",
    "\n",
    "            total_rewards += [total_reward]\n",
    "            \n",
    "            loss = agent.train_iter()\n",
    "            if e % 10 == 9:\n",
    "                print(f'Episiode {e}, episode reward {np.round(np.mean(total_rewards[-10:]),2)}, total reward {np.round(np.mean(total_rewards),2)}, loss: {loss}')\n",
    "            \n",
    "            #if e == 1500: run_eval()\n",
    "\n",
    "            break"
   ]
  },
  {
   "cell_type": "code",
   "execution_count": 26,
   "metadata": {},
   "outputs": [
    {
     "data": {
      "image/png": "[encoded data removed]",
      "text/plain": [
       "<Figure size 432x288 with 1 Axes>"
      ]
     },
     "metadata": {
      "needs_background": "light"
     },
     "output_type": "display_data"
    }
   ],
   "source": [
    "plt.plot(ma(ma(total_rewards,50), 1))\n",
    "plt.title('Реворды за эпизод A2C')\n",
    "plt.show()"
   ]
  },
  {
   "cell_type": "code",
   "execution_count": 632,
   "metadata": {},
   "outputs": [],
   "source": [
    "torch.save(agent.policy_model.state_dict(), './AC_snap/actor.pt')\n",
    "torch.save(agent.value_model.state_dict(), './AC_snap/critic.pt')"
   ]
  },
  {
   "cell_type": "code",
   "execution_count": null,
   "metadata": {},
   "outputs": [],
   "source": []
  },
  {
   "cell_type": "markdown",
   "metadata": {},
   "source": [
    "### Демонстрация"
   ]
  },
  {
   "cell_type": "code",
   "execution_count": 6,
   "metadata": {},
   "outputs": [
    {
     "name": "stdout",
     "output_type": "stream",
     "text": [
      "\u001b[33mWARN: gym.spaces.Box autodetected dtype as <class 'numpy.float32'>. Please provide explicit dtype.\u001b[0m\n"
     ]
    },
    {
     "name": "stderr",
     "output_type": "stream",
     "text": [
      "/Users/ivan/anaconda3/lib/python3.6/site-packages/ipykernel_launcher.py:29: UserWarning: nn.init.xavier_uniform is now deprecated in favor of nn.init.xavier_uniform_.\n",
      "/Users/ivan/anaconda3/lib/python3.6/site-packages/ipykernel_launcher.py:64: UserWarning: nn.init.xavier_uniform is now deprecated in favor of nn.init.xavier_uniform_.\n"
     ]
    }
   ],
   "source": [
    "env = gym.make('LunarLander-v2')\n",
    "env.seed(42)\n",
    "torch.manual_seed(42)\n",
    "\n",
    "buffer_dem = ReplayBufferAC()\n",
    "agent_dem = AgentAC(buffer_dem)\n",
    "\n",
    "agent_dem.policy_model.load_state_dict( torch.load('./AC_snap/actor.pt', map_location=device) )\n",
    "agent_dem.value_model.load_state_dict( torch.load('./AC_snap/critic.pt', map_location=device) )\n",
    "\n",
    "def run_eval_dem():\n",
    "    \n",
    "    print('Eval')\n",
    "    \n",
    "    s = env.reset()\n",
    "    a, probs = agent_dem.select([s], False)\n",
    "    \n",
    "    for t in range(2000):\n",
    "        s_, r, done, info = env.step(a)\n",
    "        a, probs = agent_dem.select([s_], False)\n",
    "        s = s_\n",
    "\n",
    "        env.render()\n",
    "\n",
    "        if done:\n",
    "            env.reset()\n",
    "            break"
   ]
  },
  {
   "cell_type": "code",
   "execution_count": 7,
   "metadata": {},
   "outputs": [
    {
     "name": "stdout",
     "output_type": "stream",
     "text": [
      "Eval\n",
      "Eval\n",
      "Eval\n",
      "Eval\n",
      "Eval\n",
      "Eval\n",
      "Eval\n",
      "Eval\n",
      "Eval\n",
      "Eval\n"
     ]
    },
    {
     "ename": "KeyboardInterrupt",
     "evalue": "",
     "output_type": "error",
     "traceback": [
      "\u001b[0;31m---------------------------------------------------------------------------\u001b[0m",
      "\u001b[0;31mKeyboardInterrupt\u001b[0m                         Traceback (most recent call last)",
      "\u001b[0;32m<ipython-input-7-7301b5da6e6d>\u001b[0m in \u001b[0;36m<module>\u001b[0;34m()\u001b[0m\n\u001b[1;32m      1\u001b[0m \u001b[0;32mfor\u001b[0m \u001b[0mi\u001b[0m \u001b[0;32min\u001b[0m \u001b[0mrange\u001b[0m\u001b[0;34m(\u001b[0m\u001b[0;36m10\u001b[0m\u001b[0;34m)\u001b[0m\u001b[0;34m:\u001b[0m\u001b[0;34m\u001b[0m\u001b[0m\n\u001b[0;32m----> 2\u001b[0;31m     \u001b[0mrun_eval_dem\u001b[0m\u001b[0;34m(\u001b[0m\u001b[0;34m)\u001b[0m\u001b[0;34m\u001b[0m\u001b[0m\n\u001b[0m",
      "\u001b[0;32m<ipython-input-6-6cddcc117321>\u001b[0m in \u001b[0;36mrun_eval_dem\u001b[0;34m()\u001b[0m\n\u001b[1;32m     17\u001b[0m \u001b[0;34m\u001b[0m\u001b[0m\n\u001b[1;32m     18\u001b[0m     \u001b[0;32mfor\u001b[0m \u001b[0mt\u001b[0m \u001b[0;32min\u001b[0m \u001b[0mrange\u001b[0m\u001b[0;34m(\u001b[0m\u001b[0;36m2000\u001b[0m\u001b[0;34m)\u001b[0m\u001b[0;34m:\u001b[0m\u001b[0;34m\u001b[0m\u001b[0m\n\u001b[0;32m---> 19\u001b[0;31m         \u001b[0ms_\u001b[0m\u001b[0;34m,\u001b[0m \u001b[0mr\u001b[0m\u001b[0;34m,\u001b[0m \u001b[0mdone\u001b[0m\u001b[0;34m,\u001b[0m \u001b[0minfo\u001b[0m \u001b[0;34m=\u001b[0m \u001b[0menv\u001b[0m\u001b[0;34m.\u001b[0m\u001b[0mstep\u001b[0m\u001b[0;34m(\u001b[0m\u001b[0ma\u001b[0m\u001b[0;34m)\u001b[0m\u001b[0;34m\u001b[0m\u001b[0m\n\u001b[0m\u001b[1;32m     20\u001b[0m         \u001b[0ma\u001b[0m\u001b[0;34m,\u001b[0m \u001b[0mprobs\u001b[0m \u001b[0;34m=\u001b[0m \u001b[0magent_dem\u001b[0m\u001b[0;34m.\u001b[0m\u001b[0mselect\u001b[0m\u001b[0;34m(\u001b[0m\u001b[0;34m[\u001b[0m\u001b[0ms_\u001b[0m\u001b[0;34m]\u001b[0m\u001b[0;34m,\u001b[0m \u001b[0;32mFalse\u001b[0m\u001b[0;34m)\u001b[0m\u001b[0;34m\u001b[0m\u001b[0m\n\u001b[1;32m     21\u001b[0m         \u001b[0ms\u001b[0m \u001b[0;34m=\u001b[0m \u001b[0ms_\u001b[0m\u001b[0;34m\u001b[0m\u001b[0m\n",
      "\u001b[0;32m~/anaconda3/lib/python3.6/site-packages/gym/wrappers/time_limit.py\u001b[0m in \u001b[0;36mstep\u001b[0;34m(self, action)\u001b[0m\n\u001b[1;32m     29\u001b[0m     \u001b[0;32mdef\u001b[0m \u001b[0mstep\u001b[0m\u001b[0;34m(\u001b[0m\u001b[0mself\u001b[0m\u001b[0;34m,\u001b[0m \u001b[0maction\u001b[0m\u001b[0;34m)\u001b[0m\u001b[0;34m:\u001b[0m\u001b[0;34m\u001b[0m\u001b[0m\n\u001b[1;32m     30\u001b[0m         \u001b[0;32massert\u001b[0m \u001b[0mself\u001b[0m\u001b[0;34m.\u001b[0m\u001b[0m_episode_started_at\u001b[0m \u001b[0;32mis\u001b[0m \u001b[0;32mnot\u001b[0m \u001b[0;32mNone\u001b[0m\u001b[0;34m,\u001b[0m \u001b[0;34m\"Cannot call env.step() before calling reset()\"\u001b[0m\u001b[0;34m\u001b[0m\u001b[0m\n\u001b[0;32m---> 31\u001b[0;31m         \u001b[0mobservation\u001b[0m\u001b[0;34m,\u001b[0m \u001b[0mreward\u001b[0m\u001b[0;34m,\u001b[0m \u001b[0mdone\u001b[0m\u001b[0;34m,\u001b[0m \u001b[0minfo\u001b[0m \u001b[0;34m=\u001b[0m \u001b[0mself\u001b[0m\u001b[0;34m.\u001b[0m\u001b[0menv\u001b[0m\u001b[0;34m.\u001b[0m\u001b[0mstep\u001b[0m\u001b[0;34m(\u001b[0m\u001b[0maction\u001b[0m\u001b[0;34m)\u001b[0m\u001b[0;34m\u001b[0m\u001b[0m\n\u001b[0m\u001b[1;32m     32\u001b[0m         \u001b[0mself\u001b[0m\u001b[0;34m.\u001b[0m\u001b[0m_elapsed_steps\u001b[0m \u001b[0;34m+=\u001b[0m \u001b[0;36m1\u001b[0m\u001b[0;34m\u001b[0m\u001b[0m\n\u001b[1;32m     33\u001b[0m \u001b[0;34m\u001b[0m\u001b[0m\n",
      "\u001b[0;32m~/anaconda3/lib/python3.6/site-packages/gym/envs/box2d/lunar_lander.py\u001b[0m in \u001b[0;36mstep\u001b[0;34m(self, action)\u001b[0m\n\u001b[1;32m    295\u001b[0m             \u001b[0;34m-\u001b[0m \u001b[0;36m100\u001b[0m\u001b[0;34m*\u001b[0m\u001b[0mnp\u001b[0m\u001b[0;34m.\u001b[0m\u001b[0msqrt\u001b[0m\u001b[0;34m(\u001b[0m\u001b[0mstate\u001b[0m\u001b[0;34m[\u001b[0m\u001b[0;36m0\u001b[0m\u001b[0;34m]\u001b[0m\u001b[0;34m*\u001b[0m\u001b[0mstate\u001b[0m\u001b[0;34m[\u001b[0m\u001b[0;36m0\u001b[0m\u001b[0;34m]\u001b[0m \u001b[0;34m+\u001b[0m \u001b[0mstate\u001b[0m\u001b[0;34m[\u001b[0m\u001b[0;36m1\u001b[0m\u001b[0;34m]\u001b[0m\u001b[0;34m*\u001b[0m\u001b[0mstate\u001b[0m\u001b[0;34m[\u001b[0m\u001b[0;36m1\u001b[0m\u001b[0;34m]\u001b[0m\u001b[0;34m)\u001b[0m\u001b[0;31m \u001b[0m\u001b[0;31m\\\u001b[0m\u001b[0;34m\u001b[0m\u001b[0m\n\u001b[1;32m    296\u001b[0m             \u001b[0;34m-\u001b[0m \u001b[0;36m100\u001b[0m\u001b[0;34m*\u001b[0m\u001b[0mnp\u001b[0m\u001b[0;34m.\u001b[0m\u001b[0msqrt\u001b[0m\u001b[0;34m(\u001b[0m\u001b[0mstate\u001b[0m\u001b[0;34m[\u001b[0m\u001b[0;36m2\u001b[0m\u001b[0;34m]\u001b[0m\u001b[0;34m*\u001b[0m\u001b[0mstate\u001b[0m\u001b[0;34m[\u001b[0m\u001b[0;36m2\u001b[0m\u001b[0;34m]\u001b[0m \u001b[0;34m+\u001b[0m \u001b[0mstate\u001b[0m\u001b[0;34m[\u001b[0m\u001b[0;36m3\u001b[0m\u001b[0;34m]\u001b[0m\u001b[0;34m*\u001b[0m\u001b[0mstate\u001b[0m\u001b[0;34m[\u001b[0m\u001b[0;36m3\u001b[0m\u001b[0;34m]\u001b[0m\u001b[0;34m)\u001b[0m\u001b[0;31m \u001b[0m\u001b[0;31m\\\u001b[0m\u001b[0;34m\u001b[0m\u001b[0m\n\u001b[0;32m--> 297\u001b[0;31m             \u001b[0;34m-\u001b[0m \u001b[0;36m100\u001b[0m\u001b[0;34m*\u001b[0m\u001b[0mabs\u001b[0m\u001b[0;34m(\u001b[0m\u001b[0mstate\u001b[0m\u001b[0;34m[\u001b[0m\u001b[0;36m4\u001b[0m\u001b[0;34m]\u001b[0m\u001b[0;34m)\u001b[0m \u001b[0;34m+\u001b[0m \u001b[0;36m10\u001b[0m\u001b[0;34m*\u001b[0m\u001b[0mstate\u001b[0m\u001b[0;34m[\u001b[0m\u001b[0;36m6\u001b[0m\u001b[0;34m]\u001b[0m \u001b[0;34m+\u001b[0m \u001b[0;36m10\u001b[0m\u001b[0;34m*\u001b[0m\u001b[0mstate\u001b[0m\u001b[0;34m[\u001b[0m\u001b[0;36m7\u001b[0m\u001b[0;34m]\u001b[0m   \u001b[0;31m# And ten points for legs contact, the idea is if you\u001b[0m\u001b[0;34m\u001b[0m\u001b[0m\n\u001b[0m\u001b[1;32m    298\u001b[0m                                                               \u001b[0;31m# lose contact again after landing, you get negative reward\u001b[0m\u001b[0;34m\u001b[0m\u001b[0;34m\u001b[0m\u001b[0m\n\u001b[1;32m    299\u001b[0m         \u001b[0;32mif\u001b[0m \u001b[0mself\u001b[0m\u001b[0;34m.\u001b[0m\u001b[0mprev_shaping\u001b[0m \u001b[0;32mis\u001b[0m \u001b[0;32mnot\u001b[0m \u001b[0;32mNone\u001b[0m\u001b[0;34m:\u001b[0m\u001b[0;34m\u001b[0m\u001b[0m\n",
      "\u001b[0;31mKeyboardInterrupt\u001b[0m: "
     ]
    }
   ],
   "source": [
    "for i in range(10):\n",
    "    run_eval_dem()"
   ]
  },
  {
   "cell_type": "code",
   "execution_count": 8,
   "metadata": {},
   "outputs": [],
   "source": [
    "env.close()"
   ]
  },
  {
   "cell_type": "code",
   "execution_count": null,
   "metadata": {},
   "outputs": [],
   "source": []
  },
  {
   "cell_type": "code",
   "execution_count": 9,
   "metadata": {},
   "outputs": [],
   "source": [
    "#lunarlander\n",
    "GAMMA = 0.99\n",
    "LEARNING_RATES = [0.001, 0.02]\n",
    "BETA = 0.00001\n",
    "ACTOR_ARH = [128]\n",
    "CRTIC_ARH = [128]"
   ]
  },
  {
   "cell_type": "code",
   "execution_count": 11,
   "metadata": {},
   "outputs": [],
   "source": [
    "import math\n",
    "\n",
    "sig_dbg = []\n",
    "mu_dbg = []\n",
    "\n",
    "class ActorACC(nn.Module):\n",
    "    def __init__(self, inner_size=[64,64]):\n",
    "        super(ActorACC,self).__init__()\n",
    "        \n",
    "        self.actoin_space = env.action_space.shape[0]\n",
    "        self.action_min = env.action_space.low\n",
    "        self.action_max = env.action_space.high\n",
    "        self.observation_space = env.observation_space.shape[0]\n",
    "        \n",
    "        seq = []\n",
    "        for i in range(len(inner_size)):\n",
    "            if i == 0:\n",
    "                seq += [nn.Linear(self.observation_space, inner_size[i])]\n",
    "                seq += [nn.ReLU()]\n",
    "            else:\n",
    "                seq += [nn.Linear(inner_size[i-1], inner_size[i])]\n",
    "            \n",
    "            if i < len(inner_size)-1:\n",
    "                seq += [nn.ReLU()]\n",
    "        \n",
    "        self.main = nn.Sequential(\n",
    "            *seq\n",
    "        )\n",
    "        \n",
    "        #self.main = nn.Linear( self.observation_space, 128 )\n",
    "        \n",
    "        self.mu_out = nn.Linear( inner_size[-1], self.actoin_space )\n",
    "        self.sig_out = nn.Linear( inner_size[-1], self.actoin_space )\n",
    "        \n",
    "        self.init_w(self.mu_out)\n",
    "        self.init_w(self.sig_out)\n",
    "        \n",
    "        self.main.apply(self.init_w)\n",
    "    \n",
    "        #self.train()\n",
    "    \n",
    "    def init_w(self, a):\n",
    "        if isinstance(a, nn.Linear):\n",
    "            torch.nn.init.xavier_uniform(a.weight)\n",
    "        \n",
    "    def forward(self, inp):\n",
    "        x = self.main(inp)[0]\n",
    "        mu = (self.mu_out(x))\n",
    "        sig = F.softplus(self.sig_out(x)) + 1e-5\n",
    "        \n",
    "        return mu, sig\n",
    "\n",
    "class Critic(nn.Module):\n",
    "    def __init__(self, inner_size):\n",
    "        super(Critic,self).__init__()\n",
    "        \n",
    "        self.actoin_space = env.action_space.shape[0]\n",
    "        self.observation_space = env.observation_space.shape[0]\n",
    "        \n",
    "        seq = []\n",
    "        for i in range(len(inner_size)):\n",
    "            if i == 0:\n",
    "                seq += [nn.Linear(self.observation_space, inner_size[i])]\n",
    "                seq += [nn.ReLU()]\n",
    "            if i == len(inner_size)-1:\n",
    "                seq += [nn.Linear(inner_size[i], 1)]\n",
    "                #seq += [nn.Linear(inner_size[i], self.actoin_space)]\n",
    "            else:\n",
    "                seq += [nn.Linear(inner_size[i-1], inner_size[i])]\n",
    "            \n",
    "            if i < len(inner_size)-1:\n",
    "                seq += [nn.ReLU()]\n",
    "        \n",
    "        self.main = nn.Sequential(\n",
    "            *seq\n",
    "        )\n",
    "        \n",
    "        self.main.apply(self.init_w)\n",
    "    \n",
    "    def init_w(self, a):\n",
    "        if isinstance(a, nn.Linear):\n",
    "            torch.nn.init.xavier_uniform(a.weight)\n",
    "    \n",
    "    def forward(self, inp):\n",
    "        return self.main(inp)\n",
    "\n",
    "class ReplayBufferACC():\n",
    "    def __init__(self, size = 100):\n",
    "        \n",
    "        self.size = size\n",
    "        self.actoin_space = env.action_space.shape[0]\n",
    "        self.observation_space = env.observation_space.shape[0]\n",
    "        \n",
    "        self.states = []\n",
    "        self.probs = []\n",
    "        self.rewards = []\n",
    "        \n",
    "        self.eps = torch.tensor(1e-8).to(device)\n",
    "        \n",
    "        #state_space_samples = np.array(\n",
    "        #    [env.observation_space.sample() for x in range(10000)]\n",
    "        #)\n",
    "        #self.state_scaler = StandardScaler()\n",
    "        #self.state_scaler.fit(state_space_samples)\n",
    "        \n",
    "        self.begin_episode()\n",
    "        \n",
    "    def begin_episode(self):\n",
    "        self.actions = []\n",
    "        self.states = []\n",
    "        self.probs = []\n",
    "        self.rewards = []\n",
    "        self.entropy = []\n",
    "        \n",
    "    def add_obs(self, a, p, s, r, d, e):\n",
    "        \n",
    "        self.actions += [a]\n",
    "        self.states += [self.scale_state(s)]\n",
    "        self.probs += [p]\n",
    "        self.rewards += [r]\n",
    "        self.entropy += [e]\n",
    "    \n",
    "    def scale_state(self, st):\n",
    "        return st\n",
    "        #return self.state_scaler.transform(st)\n",
    "    \n",
    "    def sample_actor(self):\n",
    "        \n",
    "        probs = torch.cat(self.probs)\n",
    "        entrs = torch.cat(self.entropy).to(device)\n",
    "        \n",
    "        return probs, entrs\n",
    "    \n",
    "    def sample_critic(self):\n",
    "        \n",
    "        states = np.concatenate(self.states).reshape(-1, self.observation_space)\n",
    "        states = torch.tensor(states).to(device)\n",
    "        actions = torch.tensor(self.actions).to(device)\n",
    "        rewards = torch.tensor(self.rewards).to(device)\n",
    "        next_states = torch.roll(states,-1)\n",
    "        next_action_mask = torch.ones(len(self.rewards)).to(device)\n",
    "        next_action_mask[-1] = 0.0\n",
    "        \n",
    "        returns = [np.dot( GAMMA**np.arange(1,len(self.rewards)-i+1), self.rewards[i:] ) for i in range(len(self.rewards))]\n",
    "        returns = torch.tensor(returns).to(device)\n",
    "        returns = (returns - returns.mean()) / (returns.std() + self.eps)\n",
    "        \n",
    "        return states, next_states, actions, rewards, next_action_mask, returns\n",
    "\n",
    "class AgentACC():\n",
    "    def __init__(self, rb):\n",
    "        \n",
    "        self.policy_model = ActorACC(ACTOR_ARH).to(device)\n",
    "        self.value_model = Critic(CRTIC_ARH).to(device)\n",
    "        \n",
    "        self.actoin_space = env.action_space.shape[0]\n",
    "        self.action_min = torch.tensor(env.action_space.low).to(device)\n",
    "        self.action_max = torch.tensor(env.action_space.high).to(device)\n",
    "        \n",
    "        self.replay = rb\n",
    "        \n",
    "        self.policy_opt = torch.optim.Adam(\n",
    "            self.policy_model.parameters(), lr=LEARNING_RATES[0],\n",
    "        )\n",
    "        \n",
    "        self.value_opt = torch.optim.Adam(\n",
    "            self.value_model.parameters(), lr=LEARNING_RATES[1]\n",
    "        )\n",
    "    \n",
    "    def train_critic(self, states, next_states, actions, rewards, next_state_masks, returns_r):\n",
    "        \n",
    "        loss = F.smooth_l1_loss(self.value_model(states.float()).view(-1), returns_r)\n",
    "        \n",
    "        self.value_opt.zero_grad()\n",
    "        loss.backward()\n",
    "        self.value_opt.step()\n",
    "        \n",
    "        return loss.item()\n",
    "        \n",
    "    def train_actor(self, log_probs, returns, entropy):\n",
    "        \n",
    "        returns_mul = torch.tensor(returns).view(-1).view(-1,1).repeat(1,log_probs.shape[1])\n",
    "        \n",
    "        #e_reg = 0*(-ENTROPY_A * torch.exp(log_probs)*log_probs).mean()\n",
    "        e_reg = BETA*entropy.sum()\n",
    "        loss = (-log_probs * returns_mul).sum() - e_reg\n",
    "        \n",
    "        #print(loss.item(), entropy.item())\n",
    "        \n",
    "        if loss != loss:\n",
    "            print('Nans')\n",
    "        \n",
    "        self.policy_opt.zero_grad()\n",
    "        loss.backward()\n",
    "        self.policy_opt.step()\n",
    "        \n",
    "        return loss.item()\n",
    "    \n",
    "    def train_iter(self):\n",
    "        \n",
    "        log_probs, entropy = self.replay.sample_actor()\n",
    "        states, next_states, actions, rewards, next_state_masks, returns_r = self.replay.sample_critic()\n",
    "        \n",
    "        returns_ac = returns_r - self.value_model(states.float()).detach().view(-1)\n",
    "        \n",
    "        actor_loss = self.train_actor(log_probs, returns_ac, entropy)\n",
    "        \n",
    "        critic_loss = self.train_critic(states, next_states, actions, rewards, next_state_masks, returns_r)\n",
    "        \n",
    "        return actor_loss, critic_loss\n",
    "    \n",
    "    def normal(self, x, mu, sigma, gpu_id, gpu=False):\n",
    "        pi = np.array([3.14])\n",
    "        pi = torch.from_numpy(pi).float()\n",
    "        if gpu:\n",
    "            with torch.cuda.device(gpu_id):\n",
    "                pi = Variable(pi).cuda()\n",
    "        else:\n",
    "            pi = Variable(pi)\n",
    "        a = (-1 * (x - mu).pow(2) / (2 * sigma)).exp()\n",
    "        b = 1 / (2 * sigma * pi.expand_as(sigma)).sqrt()\n",
    "        return a * b\n",
    "    \n",
    "    def select(self, state, explore=True):\n",
    "        \n",
    "        t_state = torch.tensor(state).float().unsqueeze(0).to(device)\n",
    "        mu, sig = self.policy_model(t_state)\n",
    "        act_distr = torch.distributions.Normal(mu.view(-1), sig.view(-1))\n",
    "        \n",
    "        if np.random.random() < 0.005:\n",
    "            pass\n",
    "            #print( sig.detach().cpu().numpy() )\n",
    "        \n",
    "        if not explore:\n",
    "            act = mu\n",
    "            log_probs = None\n",
    "            entropy = None\n",
    "            actc = act.detach().cpu().numpy().squeeze()\n",
    "        else:\n",
    "            act = act_distr.sample()\n",
    "            act = torch.max(torch.min(act, self.action_max), self.action_min)\n",
    "            log_probs = act_distr.log_prob(act).view(1,-1)\n",
    "            actc = act.detach().cpu().numpy().squeeze()\n",
    "            entropy = -0.5*( 1 + torch.log( 2*math.pi*sig*sig ) )\n",
    "            \n",
    "            global sig_dbg, mu_dbg\n",
    "            sig_dbg += [ sig.detach().cpu().numpy().sum() ]\n",
    "            mu_dbg += [ mu.detach().cpu().numpy().sum() ]\n",
    "            \n",
    "        return actc, log_probs, entropy\n",
    "        "
   ]
  },
  {
   "cell_type": "code",
   "execution_count": 12,
   "metadata": {
    "scrolled": true
   },
   "outputs": [
    {
     "name": "stdout",
     "output_type": "stream",
     "text": [
      "\u001b[33mWARN: gym.spaces.Box autodetected dtype as <class 'numpy.float32'>. Please provide explicit dtype.\u001b[0m\n",
      "\u001b[33mWARN: gym.spaces.Box autodetected dtype as <class 'numpy.float32'>. Please provide explicit dtype.\u001b[0m\n"
     ]
    },
    {
     "name": "stderr",
     "output_type": "stream",
     "text": [
      "/Users/ivan/anaconda3/lib/python3.6/site-packages/ipykernel_launcher.py:44: UserWarning: nn.init.xavier_uniform is now deprecated in favor of nn.init.xavier_uniform_.\n",
      "/Users/ivan/anaconda3/lib/python3.6/site-packages/ipykernel_launcher.py:82: UserWarning: nn.init.xavier_uniform is now deprecated in favor of nn.init.xavier_uniform_.\n"
     ]
    },
    {
     "data": {
      "application/vnd.jupyter.widget-view+json": {
       "model_id": "586d5e9776ad483781e263bd21400ed0",
       "version_major": 2,
       "version_minor": 0
      },
      "text/html": [
       "<p>Failed to display Jupyter Widget of type <code>HBox</code>.</p>\n",
       "<p>\n",
       "  If you're reading this message in the Jupyter Notebook or JupyterLab Notebook, it may mean\n",
       "  that the widgets JavaScript is still loading. If this message persists, it\n",
       "  likely means that the widgets JavaScript library is either not installed or\n",
       "  not enabled. See the <a href=\"https://ipywidgets.readthedocs.io/en/stable/user_install.html\">Jupyter\n",
       "  Widgets Documentation</a> for setup instructions.\n",
       "</p>\n",
       "<p>\n",
       "  If you're reading this message in another frontend (for example, a static\n",
       "  rendering on GitHub or <a href=\"https://nbviewer.jupyter.org/\">NBViewer</a>),\n",
       "  it may mean that your frontend doesn't currently support widgets.\n",
       "</p>\n"
      ],
      "text/plain": [
       "HBox(children=(IntProgress(value=0, max=2000), HTML(value='')))"
      ]
     },
     "metadata": {},
     "output_type": "display_data"
    },
    {
     "name": "stderr",
     "output_type": "stream",
     "text": [
      "/Users/ivan/anaconda3/lib/python3.6/site-packages/ipykernel_launcher.py:182: UserWarning: To copy construct from a tensor, it is recommended to use sourceTensor.clone().detach() or sourceTensor.clone().detach().requires_grad_(True), rather than torch.tensor(sourceTensor).\n"
     ]
    },
    {
     "name": "stdout",
     "output_type": "stream",
     "text": [
      "mu 0.29248044 sig 1.6166121\n",
      "Episiode 9, episode reward -376.98, total reward -376.98, leng: 66 loss: (47.68479919433594, 0.3404461145401001)\n",
      "mu -0.055100344 sig 1.3660834\n",
      "\n"
     ]
    },
    {
     "ename": "KeyboardInterrupt",
     "evalue": "",
     "output_type": "error",
     "traceback": [
      "\u001b[0;31m---------------------------------------------------------------------------\u001b[0m",
      "\u001b[0;31mKeyboardInterrupt\u001b[0m                         Traceback (most recent call last)",
      "\u001b[0;32m<ipython-input-12-8c11430a5b01>\u001b[0m in \u001b[0;36m<module>\u001b[0;34m()\u001b[0m\n\u001b[1;32m     21\u001b[0m \u001b[0;34m\u001b[0m\u001b[0m\n\u001b[1;32m     22\u001b[0m     \u001b[0;32mfor\u001b[0m \u001b[0mt\u001b[0m \u001b[0;32min\u001b[0m \u001b[0mrange\u001b[0m\u001b[0;34m(\u001b[0m\u001b[0;36m2000\u001b[0m\u001b[0;34m)\u001b[0m\u001b[0;34m:\u001b[0m\u001b[0;34m\u001b[0m\u001b[0m\n\u001b[0;32m---> 23\u001b[0;31m         \u001b[0ms_\u001b[0m\u001b[0;34m,\u001b[0m \u001b[0mr\u001b[0m\u001b[0;34m,\u001b[0m \u001b[0mdone\u001b[0m\u001b[0;34m,\u001b[0m \u001b[0minfo\u001b[0m \u001b[0;34m=\u001b[0m \u001b[0menv\u001b[0m\u001b[0;34m.\u001b[0m\u001b[0mstep\u001b[0m\u001b[0;34m(\u001b[0m\u001b[0ma\u001b[0m\u001b[0;34m)\u001b[0m\u001b[0;34m\u001b[0m\u001b[0m\n\u001b[0m\u001b[1;32m     24\u001b[0m \u001b[0;34m\u001b[0m\u001b[0m\n\u001b[1;32m     25\u001b[0m         \u001b[0mtotal_reward\u001b[0m \u001b[0;34m+=\u001b[0m \u001b[0mr\u001b[0m\u001b[0;34m\u001b[0m\u001b[0m\n",
      "\u001b[0;32m~/anaconda3/lib/python3.6/site-packages/gym/wrappers/time_limit.py\u001b[0m in \u001b[0;36mstep\u001b[0;34m(self, action)\u001b[0m\n\u001b[1;32m     29\u001b[0m     \u001b[0;32mdef\u001b[0m \u001b[0mstep\u001b[0m\u001b[0;34m(\u001b[0m\u001b[0mself\u001b[0m\u001b[0;34m,\u001b[0m \u001b[0maction\u001b[0m\u001b[0;34m)\u001b[0m\u001b[0;34m:\u001b[0m\u001b[0;34m\u001b[0m\u001b[0m\n\u001b[1;32m     30\u001b[0m         \u001b[0;32massert\u001b[0m \u001b[0mself\u001b[0m\u001b[0;34m.\u001b[0m\u001b[0m_episode_started_at\u001b[0m \u001b[0;32mis\u001b[0m \u001b[0;32mnot\u001b[0m \u001b[0;32mNone\u001b[0m\u001b[0;34m,\u001b[0m \u001b[0;34m\"Cannot call env.step() before calling reset()\"\u001b[0m\u001b[0;34m\u001b[0m\u001b[0m\n\u001b[0;32m---> 31\u001b[0;31m         \u001b[0mobservation\u001b[0m\u001b[0;34m,\u001b[0m \u001b[0mreward\u001b[0m\u001b[0;34m,\u001b[0m \u001b[0mdone\u001b[0m\u001b[0;34m,\u001b[0m \u001b[0minfo\u001b[0m \u001b[0;34m=\u001b[0m \u001b[0mself\u001b[0m\u001b[0;34m.\u001b[0m\u001b[0menv\u001b[0m\u001b[0;34m.\u001b[0m\u001b[0mstep\u001b[0m\u001b[0;34m(\u001b[0m\u001b[0maction\u001b[0m\u001b[0;34m)\u001b[0m\u001b[0;34m\u001b[0m\u001b[0m\n\u001b[0m\u001b[1;32m     32\u001b[0m         \u001b[0mself\u001b[0m\u001b[0;34m.\u001b[0m\u001b[0m_elapsed_steps\u001b[0m \u001b[0;34m+=\u001b[0m \u001b[0;36m1\u001b[0m\u001b[0;34m\u001b[0m\u001b[0m\n\u001b[1;32m     33\u001b[0m \u001b[0;34m\u001b[0m\u001b[0m\n",
      "\u001b[0;32m~/anaconda3/lib/python3.6/site-packages/gym/envs/box2d/lunar_lander.py\u001b[0m in \u001b[0;36mstep\u001b[0;34m(self, action)\u001b[0m\n\u001b[1;32m    275\u001b[0m             \u001b[0mself\u001b[0m\u001b[0;34m.\u001b[0m\u001b[0mlander\u001b[0m\u001b[0;34m.\u001b[0m\u001b[0mApplyLinearImpulse\u001b[0m\u001b[0;34m(\u001b[0m \u001b[0;34m(\u001b[0m\u001b[0;34m-\u001b[0m\u001b[0mox\u001b[0m\u001b[0;34m*\u001b[0m\u001b[0mSIDE_ENGINE_POWER\u001b[0m\u001b[0;34m*\u001b[0m\u001b[0ms_power\u001b[0m\u001b[0;34m,\u001b[0m \u001b[0;34m-\u001b[0m\u001b[0moy\u001b[0m\u001b[0;34m*\u001b[0m\u001b[0mSIDE_ENGINE_POWER\u001b[0m\u001b[0;34m*\u001b[0m\u001b[0ms_power\u001b[0m\u001b[0;34m)\u001b[0m\u001b[0;34m,\u001b[0m \u001b[0mimpulse_pos\u001b[0m\u001b[0;34m,\u001b[0m \u001b[0;32mTrue\u001b[0m\u001b[0;34m)\u001b[0m\u001b[0;34m\u001b[0m\u001b[0m\n\u001b[1;32m    276\u001b[0m \u001b[0;34m\u001b[0m\u001b[0m\n\u001b[0;32m--> 277\u001b[0;31m         \u001b[0mself\u001b[0m\u001b[0;34m.\u001b[0m\u001b[0mworld\u001b[0m\u001b[0;34m.\u001b[0m\u001b[0mStep\u001b[0m\u001b[0;34m(\u001b[0m\u001b[0;36m1.0\u001b[0m\u001b[0;34m/\u001b[0m\u001b[0mFPS\u001b[0m\u001b[0;34m,\u001b[0m \u001b[0;36m6\u001b[0m\u001b[0;34m*\u001b[0m\u001b[0;36m30\u001b[0m\u001b[0;34m,\u001b[0m \u001b[0;36m2\u001b[0m\u001b[0;34m*\u001b[0m\u001b[0;36m30\u001b[0m\u001b[0;34m)\u001b[0m\u001b[0;34m\u001b[0m\u001b[0m\n\u001b[0m\u001b[1;32m    278\u001b[0m \u001b[0;34m\u001b[0m\u001b[0m\n\u001b[1;32m    279\u001b[0m         \u001b[0mpos\u001b[0m \u001b[0;34m=\u001b[0m \u001b[0mself\u001b[0m\u001b[0;34m.\u001b[0m\u001b[0mlander\u001b[0m\u001b[0;34m.\u001b[0m\u001b[0mposition\u001b[0m\u001b[0;34m\u001b[0m\u001b[0m\n",
      "\u001b[0;32m~/anaconda3/lib/python3.6/site-packages/gym/envs/box2d/lunar_lander.py\u001b[0m in \u001b[0;36mBeginContact\u001b[0;34m(self, contact)\u001b[0m\n\u001b[1;32m     60\u001b[0m         \u001b[0mcontactListener\u001b[0m\u001b[0;34m.\u001b[0m\u001b[0m__init__\u001b[0m\u001b[0;34m(\u001b[0m\u001b[0mself\u001b[0m\u001b[0;34m)\u001b[0m\u001b[0;34m\u001b[0m\u001b[0m\n\u001b[1;32m     61\u001b[0m         \u001b[0mself\u001b[0m\u001b[0;34m.\u001b[0m\u001b[0menv\u001b[0m \u001b[0;34m=\u001b[0m \u001b[0menv\u001b[0m\u001b[0;34m\u001b[0m\u001b[0m\n\u001b[0;32m---> 62\u001b[0;31m     \u001b[0;32mdef\u001b[0m \u001b[0mBeginContact\u001b[0m\u001b[0;34m(\u001b[0m\u001b[0mself\u001b[0m\u001b[0;34m,\u001b[0m \u001b[0mcontact\u001b[0m\u001b[0;34m)\u001b[0m\u001b[0;34m:\u001b[0m\u001b[0;34m\u001b[0m\u001b[0m\n\u001b[0m\u001b[1;32m     63\u001b[0m         \u001b[0;32mif\u001b[0m \u001b[0mself\u001b[0m\u001b[0;34m.\u001b[0m\u001b[0menv\u001b[0m\u001b[0;34m.\u001b[0m\u001b[0mlander\u001b[0m\u001b[0;34m==\u001b[0m\u001b[0mcontact\u001b[0m\u001b[0;34m.\u001b[0m\u001b[0mfixtureA\u001b[0m\u001b[0;34m.\u001b[0m\u001b[0mbody\u001b[0m \u001b[0;32mor\u001b[0m \u001b[0mself\u001b[0m\u001b[0;34m.\u001b[0m\u001b[0menv\u001b[0m\u001b[0;34m.\u001b[0m\u001b[0mlander\u001b[0m\u001b[0;34m==\u001b[0m\u001b[0mcontact\u001b[0m\u001b[0;34m.\u001b[0m\u001b[0mfixtureB\u001b[0m\u001b[0;34m.\u001b[0m\u001b[0mbody\u001b[0m\u001b[0;34m:\u001b[0m\u001b[0;34m\u001b[0m\u001b[0m\n\u001b[1;32m     64\u001b[0m             \u001b[0mself\u001b[0m\u001b[0;34m.\u001b[0m\u001b[0menv\u001b[0m\u001b[0;34m.\u001b[0m\u001b[0mgame_over\u001b[0m \u001b[0;34m=\u001b[0m \u001b[0;32mTrue\u001b[0m\u001b[0;34m\u001b[0m\u001b[0m\n",
      "\u001b[0;31mKeyboardInterrupt\u001b[0m: "
     ]
    }
   ],
   "source": [
    "env = gym.make('LunarLanderContinuous-v2')\n",
    "#env = gym.make('BipedalWalker-v2')\n",
    "env.seed(42)\n",
    "torch.manual_seed(42)\n",
    "\n",
    "buffer = ReplayBufferACC()\n",
    "agent = AgentACC(buffer)\n",
    "\n",
    "total_rewards = []\n",
    "total_lengths = []\n",
    "\n",
    "for e in tqdm(range(2000)):\n",
    "    \n",
    "    buffer.begin_episode()\n",
    "    \n",
    "    s = env.reset()\n",
    "    a, probs, entr = agent.select([s])\n",
    "    \n",
    "    total_reward = 0\n",
    "    total_length= 0\n",
    "    \n",
    "    for t in range(2000):\n",
    "        s_, r, done, info = env.step(a)\n",
    "\n",
    "        total_reward += r\n",
    "        total_length += 1\n",
    "\n",
    "        buffer.add_obs( a, probs, s, r, done, entr )\n",
    "\n",
    "        a, probs, entr = agent.select([s_])\n",
    "\n",
    "        s = s_\n",
    "\n",
    "        if done:\n",
    "\n",
    "            total_rewards += [total_reward]\n",
    "            total_lengths += [total_length]\n",
    "            \n",
    "            loss = agent.train_iter()\n",
    "            if e % 10 == 9:\n",
    "                print(f'Episiode {e}, episode reward {np.round(np.mean(total_rewards[-10:]),2)}, total reward {np.round(np.mean(total_rewards),2)}, leng: {total_length} loss: {loss}')\n",
    "            \n",
    "            if e % 10 == 3:\n",
    "                print('mu', np.mean(mu_dbg[-10:]), 'sig', np.mean(sig_dbg[-10:]))\n",
    "            \n",
    "            #if e == 1500: run_eval()\n",
    "\n",
    "            break"
   ]
  },
  {
   "cell_type": "code",
   "execution_count": 595,
   "metadata": {},
   "outputs": [
    {
     "data": {
      "text/plain": [
       "[<matplotlib.lines.Line2D at 0x7f5cb4185a90>]"
      ]
     },
     "execution_count": 595,
     "metadata": {},
     "output_type": "execute_result"
    },
    {
     "data": {
      "image/png": "[encoded data removed]",
      "text/plain": [
       "<Figure size 432x288 with 1 Axes>"
      ]
     },
     "metadata": {
      "needs_background": "light"
     },
     "output_type": "display_data"
    }
   ],
   "source": [
    "plt.plot(ma(total_rewards,50))"
   ]
  },
  {
   "cell_type": "code",
   "execution_count": 601,
   "metadata": {},
   "outputs": [],
   "source": [
    "torch.save(agent.policy_model.state_dict(), './ACC_snap/actor.pt')\n",
    "torch.save(agent.value_model.state_dict(), './ACC_snap/critic.pt')"
   ]
  },
  {
   "cell_type": "code",
   "execution_count": null,
   "metadata": {},
   "outputs": [],
   "source": []
  },
  {
   "cell_type": "markdown",
   "metadata": {},
   "source": [
    "### Демонстрация"
   ]
  },
  {
   "cell_type": "code",
   "execution_count": 13,
   "metadata": {},
   "outputs": [
    {
     "name": "stdout",
     "output_type": "stream",
     "text": [
      "\u001b[33mWARN: gym.spaces.Box autodetected dtype as <class 'numpy.float32'>. Please provide explicit dtype.\u001b[0m\n",
      "\u001b[33mWARN: gym.spaces.Box autodetected dtype as <class 'numpy.float32'>. Please provide explicit dtype.\u001b[0m\n"
     ]
    },
    {
     "name": "stderr",
     "output_type": "stream",
     "text": [
      "/Users/ivan/anaconda3/lib/python3.6/site-packages/ipykernel_launcher.py:44: UserWarning: nn.init.xavier_uniform is now deprecated in favor of nn.init.xavier_uniform_.\n",
      "/Users/ivan/anaconda3/lib/python3.6/site-packages/ipykernel_launcher.py:82: UserWarning: nn.init.xavier_uniform is now deprecated in favor of nn.init.xavier_uniform_.\n"
     ]
    }
   ],
   "source": [
    "env = gym.make('LunarLanderContinuous-v2')\n",
    "env.seed(42)\n",
    "torch.manual_seed(42)\n",
    "\n",
    "buffer_dem = ReplayBufferACC()\n",
    "agent_dem = AgentACC(buffer_dem)\n",
    "\n",
    "agent_dem.policy_model.load_state_dict( torch.load('./ACC_snap/actor.pt', map_location=device) )\n",
    "agent_dem.value_model.load_state_dict( torch.load('./ACC_snap/critic.pt', map_location=device) )\n",
    "\n",
    "def run_eval_dem():\n",
    "    \n",
    "    print('Eval')\n",
    "    \n",
    "    s = env.reset()\n",
    "    a, probs, entr = agent_dem.select(s, False)\n",
    "    \n",
    "    for t in range(2000):\n",
    "        \n",
    "        s_, r, done, info = env.step(np.clip(a, -np.ones_like(a),np.ones_like(a)))\n",
    "        a, probs, entr = agent_dem.select(s_, False)\n",
    "        s = s_\n",
    "\n",
    "        env.render()\n",
    "\n",
    "        if done:\n",
    "            #env.reset()\n",
    "            break\n",
    "    \n",
    "    env.close()"
   ]
  },
  {
   "cell_type": "code",
   "execution_count": 14,
   "metadata": {
    "scrolled": true
   },
   "outputs": [
    {
     "name": "stdout",
     "output_type": "stream",
     "text": [
      "Eval\n",
      "Eval\n",
      "Eval\n",
      "Eval\n",
      "Eval\n",
      "Eval\n",
      "Eval\n",
      "Eval\n",
      "Eval\n",
      "Eval\n"
     ]
    }
   ],
   "source": [
    "for i in range(10):\n",
    "    run_eval_dem()"
   ]
  },
  {
   "cell_type": "code",
   "execution_count": null,
   "metadata": {},
   "outputs": [],
   "source": []
  },
  {
   "cell_type": "code",
   "execution_count": null,
   "metadata": {},
   "outputs": [],
   "source": []
  },
  {
   "cell_type": "code",
   "execution_count": null,
   "metadata": {},
   "outputs": [],
   "source": []
  },
  {
   "cell_type": "markdown",
   "metadata": {},
   "source": [
    "# Домашнее задание\n",
    "\n",
    "    1. Найти оптимальный baseline(из лекции) - 1 балл\n",
    "\n",
    "    2. Для A2C заменть Монте-Карло обучение на TD обучение. Сравнить результат(графики ревордов). 2 балла\n",
    "    \n",
    "    3. Для A2C с неприрывными действиями решить задачу RacingCar-v0. Нужно набрать более 900 в среднем за 50 последних эпизодов - 3 балла"
   ]
  },
  {
   "cell_type": "code",
   "execution_count": null,
   "metadata": {},
   "outputs": [],
   "source": []
  },
  {
   "cell_type": "code",
   "execution_count": null,
   "metadata": {},
   "outputs": [],
   "source": []
  },
  {
   "cell_type": "code",
   "execution_count": null,
   "metadata": {},
   "outputs": [],
   "source": []
  },
  {
   "cell_type": "code",
   "execution_count": null,
   "metadata": {},
   "outputs": [],
   "source": []
  },
  {
   "cell_type": "code",
   "execution_count": null,
   "metadata": {},
   "outputs": [],
   "source": []
  }
 ],
 "metadata": {
  "kernelspec": {
   "display_name": "Python 3",
   "language": "python",
   "name": "python3"
  },
  "language_info": {
   "codemirror_mode": {
    "name": "ipython",
    "version": 3
   },
   "file_extension": ".py",
   "mimetype": "text/x-python",
   "name": "python",
   "nbconvert_exporter": "python",
   "pygments_lexer": "ipython3",
   "version": "3.6.4"
  }
 },
 "nbformat": 4,
 "nbformat_minor": 2
}
